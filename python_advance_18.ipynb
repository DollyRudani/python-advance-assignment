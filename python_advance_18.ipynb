{
 "cells": [
  {
   "attachments": {},
   "cell_type": "markdown",
   "metadata": {},
   "source": [
    "Q1. Describe the differences between text and binary files in a single paragraph."
   ]
  },
  {
   "attachments": {},
   "cell_type": "markdown",
   "metadata": {},
   "source": [
    "Text and binary files differ in how they store and represent data. Text files are human-readable files that store data as plain text, typically using character encoding schemes like ASCII or UTF-8. They primarily contain textual information, such as letters, numbers, symbols, and newline characters. Text files are often used for storing configuration files, source code, or textual data that can be easily understood and modified by humans.\n",
    "\n",
    "On the other hand, binary files store data in a non-textual format using binary encoding. They can contain any sequence of bytes, representing various types of data, including images, audio, video, executable code, or serialized objects. Binary files are not meant to be directly readable or modifiable by humans, as the data is encoded in a format specific to the application or file type. They require specialized software or knowledge of the file structure to interpret the data correctly. Binary files offer flexibility in representing complex data structures efficiently but lack human-readable characteristics of text files."
   ]
  },
  {
   "attachments": {},
   "cell_type": "markdown",
   "metadata": {},
   "source": [
    "Q2. What are some scenarios where using text files will be the better option? When would you like to use binary files instead of text files?\n",
    "\n"
   ]
  },
  {
   "attachments": {},
   "cell_type": "markdown",
   "metadata": {},
   "source": [
    "Text files are often a better option in scenarios where the data is primarily textual and human-readable. Here are some scenarios where using text files is preferable:\n",
    "\n",
    "1. Storing plain text documents: Text files are ideal for storing documents, such as articles, essays, notes, or logs, where the content is primarily composed of human-readable text.\n",
    "\n",
    "2. Configuration files: Text files are commonly used for configuration files in software applications. These files typically contain settings, parameters, or options that can be easily modified by users or administrators using a simple text editor.\n",
    "\n",
    "3. Source code files: Source code files for programming languages are typically stored as text files. Text files allow developers to easily read, write, and modify code using text editors or integrated development environments (IDEs).\n",
    "\n",
    "4. Data interchange: When data needs to be shared or exchanged between different systems or platforms, using text files with a well-defined structure (e.g., CSV, JSON, XML) is often preferred. Text-based formats provide compatibility and ease of parsing across different programming languages and platforms.\n",
    "\n",
    "Binary files, on the other hand, are advantageous in the following scenarios:\n",
    "\n",
    "1. Storing complex data structures: Binary files are useful when storing data structures that are not easily represented as text, such as images, audio files, video files, or serialized objects. Binary encoding allows for efficient storage and manipulation of such complex data.\n",
    "\n",
    "2. Performance and efficiency: Binary files can offer better performance and storage efficiency compared to text files, especially when dealing with large volumes of data. Binary formats can use specific compression techniques or optimized data representations tailored to the specific data type.\n",
    "\n",
    "3. Preserving data integrity: Binary files can ensure data integrity by avoiding potential issues related to character encoding or interpretation of special characters in text files. They provide direct storage of raw data, without the need for additional encoding or decoding steps.\n",
    "\n",
    "4. Encryption and security: Binary files can be encrypted or obfuscated more effectively compared to text files, making them suitable for secure storage of sensitive data.\n",
    "\n",
    "In summary, text files are preferable for human-readable and textual data, while binary files are more suitable for storing complex data structures, achieving better performance, preserving data integrity, and providing enhanced security measures."
   ]
  },
  {
   "attachments": {},
   "cell_type": "markdown",
   "metadata": {},
   "source": [
    "Q3. What are some of the issues with using binary operations to read and write a Python integer directly to disc?\n",
    "\n"
   ]
  },
  {
   "attachments": {},
   "cell_type": "markdown",
   "metadata": {},
   "source": [
    "Using binary operations to read and write a Python integer directly to disk can introduce several issues:\n",
    "\n",
    "1. Endianness: Endianness refers to the byte order in which the individual bytes of a multi-byte value (such as an integer) are stored in memory. Different systems may have different endianness, such as little-endian or big-endian. When directly reading or writing integers in binary format, the endianness must be taken into account to ensure proper interpretation of the data on different systems.\n",
    "\n",
    "2. Platform dependence: Binary formats for integers are often platform-dependent. If you write an integer to disk using binary operations on one system and attempt to read it on a different system with a different architecture or endianness, the interpretation of the binary data may not be consistent, leading to incorrect or unexpected results.\n",
    "\n",
    "3. Data portability: Binary operations to read and write integers directly to disk may not provide a portable solution. If the data needs to be transferred or shared across different systems or platforms, the binary format may not be compatible or interpretable on all systems.\n",
    "\n",
    "4. Lack of human-readability: Binary formats are not human-readable, making it challenging to inspect or modify the data directly using text editors or standard tools. Debugging or understanding the data becomes more difficult without additional processing or conversion steps.\n",
    "\n",
    "To address these issues, it is often recommended to use higher-level file formats or data serialization libraries that provide platform-independent and human-readable representations. Common approaches include using text-based formats like CSV, JSON, or XML, or binary formats with well-defined specifications, such as Protocol Buffers, HDF5, or Pickle. These formats offer data portability, ease of interpretation, and support for different data types and structures."
   ]
  },
  {
   "attachments": {},
   "cell_type": "markdown",
   "metadata": {},
   "source": [
    "Q4. Describe a benefit of using the with keyword instead of explicitly opening a file.\n",
    "\n"
   ]
  },
  {
   "attachments": {},
   "cell_type": "markdown",
   "metadata": {},
   "source": [
    "One benefit of using the with keyword instead of explicitly opening a file is that it ensures proper handling of resources and automatically takes care of closing the file, even in the event of an exception or error.\n",
    "\n",
    "When you open a file using the with statement, it creates a context manager that encapsulates the code block that follows. This context manager guarantees that the file will be properly closed after the block is executed, regardless of any exceptions that may occur within the block.\n"
   ]
  },
  {
   "attachments": {},
   "cell_type": "markdown",
   "metadata": {},
   "source": [
    "Q5. Does Python have the trailing newline while reading a line of text? Does Python append a newline when you write a line of text?\n",
    "\n"
   ]
  },
  {
   "attachments": {},
   "cell_type": "markdown",
   "metadata": {},
   "source": [
    "In Python, when you read a line of text from a file using the readline() method, the trailing newline character (\\n) is included in the returned string, if it exists in the file. If the line in the file doesn't have a newline character at the end, the returned string won't include it.\n",
    "\n",
    "For example, let's assume we have a file called \"example.txt\" with the following content:"
   ]
  },
  {
   "attachments": {},
   "cell_type": "markdown",
   "metadata": {},
   "source": [
    "Hello, world!\n",
    "This is a line of text.\n"
   ]
  },
  {
   "cell_type": "code",
   "execution_count": 3,
   "metadata": {},
   "outputs": [
    {
     "ename": "FileNotFoundError",
     "evalue": "[Errno 2] No such file or directory: 'example.txt'",
     "output_type": "error",
     "traceback": [
      "\u001b[1;31m---------------------------------------------------------------------------\u001b[0m",
      "\u001b[1;31mFileNotFoundError\u001b[0m                         Traceback (most recent call last)",
      "Cell \u001b[1;32mIn[3], line 1\u001b[0m\n\u001b[1;32m----> 1\u001b[0m \u001b[39mwith\u001b[39;00m \u001b[39mopen\u001b[39;49m(\u001b[39m'\u001b[39;49m\u001b[39mexample.txt\u001b[39;49m\u001b[39m'\u001b[39;49m, \u001b[39m'\u001b[39;49m\u001b[39mr\u001b[39;49m\u001b[39m'\u001b[39;49m) \u001b[39mas\u001b[39;00m file:\n\u001b[0;32m      2\u001b[0m     line1 \u001b[39m=\u001b[39m file\u001b[39m.\u001b[39mreadline()\n\u001b[0;32m      3\u001b[0m     line2 \u001b[39m=\u001b[39m file\u001b[39m.\u001b[39mreadline()\n",
      "File \u001b[1;32m~\\AppData\\Roaming\\Python\\Python311\\site-packages\\IPython\\core\\interactiveshell.py:284\u001b[0m, in \u001b[0;36m_modified_open\u001b[1;34m(file, *args, **kwargs)\u001b[0m\n\u001b[0;32m    277\u001b[0m \u001b[39mif\u001b[39;00m file \u001b[39min\u001b[39;00m {\u001b[39m0\u001b[39m, \u001b[39m1\u001b[39m, \u001b[39m2\u001b[39m}:\n\u001b[0;32m    278\u001b[0m     \u001b[39mraise\u001b[39;00m \u001b[39mValueError\u001b[39;00m(\n\u001b[0;32m    279\u001b[0m         \u001b[39mf\u001b[39m\u001b[39m\"\u001b[39m\u001b[39mIPython won\u001b[39m\u001b[39m'\u001b[39m\u001b[39mt let you open fd=\u001b[39m\u001b[39m{\u001b[39;00mfile\u001b[39m}\u001b[39;00m\u001b[39m by default \u001b[39m\u001b[39m\"\u001b[39m\n\u001b[0;32m    280\u001b[0m         \u001b[39m\"\u001b[39m\u001b[39mas it is likely to crash IPython. If you know what you are doing, \u001b[39m\u001b[39m\"\u001b[39m\n\u001b[0;32m    281\u001b[0m         \u001b[39m\"\u001b[39m\u001b[39myou can use builtins\u001b[39m\u001b[39m'\u001b[39m\u001b[39m open.\u001b[39m\u001b[39m\"\u001b[39m\n\u001b[0;32m    282\u001b[0m     )\n\u001b[1;32m--> 284\u001b[0m \u001b[39mreturn\u001b[39;00m io_open(file, \u001b[39m*\u001b[39;49margs, \u001b[39m*\u001b[39;49m\u001b[39m*\u001b[39;49mkwargs)\n",
      "\u001b[1;31mFileNotFoundError\u001b[0m: [Errno 2] No such file or directory: 'example.txt'"
     ]
    }
   ],
   "source": [
    "with open('example.txt', 'r') as file:\n",
    "    line1 = file.readline()\n",
    "    line2 = file.readline()\n",
    "\n",
    "print(line1)  # Output: \"Hello, world!\\n\"\n",
    "print(line2)  # Output: \"This is a line of text.\\n\""
   ]
  },
  {
   "attachments": {},
   "cell_type": "markdown",
   "metadata": {},
   "source": [
    "On the other hand, when you write a line of text to a file using the write() method, Python does not append a newline character (\\n) automatically. It is your responsibility to include the newline character if desired.\n",
    "\n",
    "Here's an example:"
   ]
  },
  {
   "cell_type": "code",
   "execution_count": null,
   "metadata": {},
   "outputs": [],
   "source": [
    "with open('example.txt', 'w') as file:\n",
    "    file.write(\"This is a line of text.\\n\")\n",
    "\n",
    "# The file \"example.txt\" will contain: \"This is a line of text.\\n\""
   ]
  },
  {
   "attachments": {},
   "cell_type": "markdown",
   "metadata": {},
   "source": [
    "Q6. What file operations enable for random-access operation?"
   ]
  },
  {
   "attachments": {},
   "cell_type": "markdown",
   "metadata": {},
   "source": [
    "In Python, the seek() and tell() methods enable random-access operations on a file. These methods allow you to navigate within a file and read or write data at specific positions.\n",
    "\n",
    "The seek(offset, whence) method is used to move the file's current position to a specified location. It takes two arguments: offset, which represents the number of bytes to move, and whence, which specifies the reference point for the offset. The whence parameter is optional and defaults to 0 (beginning of the file).\n",
    "\n",
    "Here's an example that demonstrates the usage of seek():"
   ]
  },
  {
   "cell_type": "code",
   "execution_count": 4,
   "metadata": {},
   "outputs": [
    {
     "ename": "FileNotFoundError",
     "evalue": "[Errno 2] No such file or directory: 'example.txt'",
     "output_type": "error",
     "traceback": [
      "\u001b[1;31m---------------------------------------------------------------------------\u001b[0m",
      "\u001b[1;31mFileNotFoundError\u001b[0m                         Traceback (most recent call last)",
      "Cell \u001b[1;32mIn[4], line 1\u001b[0m\n\u001b[1;32m----> 1\u001b[0m \u001b[39mwith\u001b[39;00m \u001b[39mopen\u001b[39;49m(\u001b[39m'\u001b[39;49m\u001b[39mexample.txt\u001b[39;49m\u001b[39m'\u001b[39;49m, \u001b[39m'\u001b[39;49m\u001b[39mr\u001b[39;49m\u001b[39m'\u001b[39;49m) \u001b[39mas\u001b[39;00m file:\n\u001b[0;32m      2\u001b[0m     file\u001b[39m.\u001b[39mseek(\u001b[39m10\u001b[39m)  \u001b[39m# Moves the current position to the 10th byte from the beginning of the file\u001b[39;00m\n\u001b[0;32m      3\u001b[0m     data \u001b[39m=\u001b[39m file\u001b[39m.\u001b[39mread(\u001b[39m5\u001b[39m)  \u001b[39m# Reads 5 bytes from the current position\u001b[39;00m\n",
      "File \u001b[1;32m~\\AppData\\Roaming\\Python\\Python311\\site-packages\\IPython\\core\\interactiveshell.py:284\u001b[0m, in \u001b[0;36m_modified_open\u001b[1;34m(file, *args, **kwargs)\u001b[0m\n\u001b[0;32m    277\u001b[0m \u001b[39mif\u001b[39;00m file \u001b[39min\u001b[39;00m {\u001b[39m0\u001b[39m, \u001b[39m1\u001b[39m, \u001b[39m2\u001b[39m}:\n\u001b[0;32m    278\u001b[0m     \u001b[39mraise\u001b[39;00m \u001b[39mValueError\u001b[39;00m(\n\u001b[0;32m    279\u001b[0m         \u001b[39mf\u001b[39m\u001b[39m\"\u001b[39m\u001b[39mIPython won\u001b[39m\u001b[39m'\u001b[39m\u001b[39mt let you open fd=\u001b[39m\u001b[39m{\u001b[39;00mfile\u001b[39m}\u001b[39;00m\u001b[39m by default \u001b[39m\u001b[39m\"\u001b[39m\n\u001b[0;32m    280\u001b[0m         \u001b[39m\"\u001b[39m\u001b[39mas it is likely to crash IPython. If you know what you are doing, \u001b[39m\u001b[39m\"\u001b[39m\n\u001b[0;32m    281\u001b[0m         \u001b[39m\"\u001b[39m\u001b[39myou can use builtins\u001b[39m\u001b[39m'\u001b[39m\u001b[39m open.\u001b[39m\u001b[39m\"\u001b[39m\n\u001b[0;32m    282\u001b[0m     )\n\u001b[1;32m--> 284\u001b[0m \u001b[39mreturn\u001b[39;00m io_open(file, \u001b[39m*\u001b[39;49margs, \u001b[39m*\u001b[39;49m\u001b[39m*\u001b[39;49mkwargs)\n",
      "\u001b[1;31mFileNotFoundError\u001b[0m: [Errno 2] No such file or directory: 'example.txt'"
     ]
    }
   ],
   "source": [
    "with open('example.txt', 'r') as file:\n",
    "    file.seek(10)  # Moves the current position to the 10th byte from the beginning of the file\n",
    "    data = file.read(5)  # Reads 5 bytes from the current position\n",
    "\n",
    "print(data)  # Output: 'of te'\n"
   ]
  },
  {
   "attachments": {},
   "cell_type": "markdown",
   "metadata": {},
   "source": [
    "The tell() method returns the current position of the file pointer, indicating the byte offset from the beginning of the file. It doesn't take any arguments.\n",
    "\n",
    "Here's an example that shows the usage of tell():"
   ]
  },
  {
   "cell_type": "code",
   "execution_count": 5,
   "metadata": {},
   "outputs": [
    {
     "ename": "FileNotFoundError",
     "evalue": "[Errno 2] No such file or directory: 'example.txt'",
     "output_type": "error",
     "traceback": [
      "\u001b[1;31m---------------------------------------------------------------------------\u001b[0m",
      "\u001b[1;31mFileNotFoundError\u001b[0m                         Traceback (most recent call last)",
      "Cell \u001b[1;32mIn[5], line 1\u001b[0m\n\u001b[1;32m----> 1\u001b[0m \u001b[39mwith\u001b[39;00m \u001b[39mopen\u001b[39;49m(\u001b[39m'\u001b[39;49m\u001b[39mexample.txt\u001b[39;49m\u001b[39m'\u001b[39;49m, \u001b[39m'\u001b[39;49m\u001b[39mr\u001b[39;49m\u001b[39m'\u001b[39;49m) \u001b[39mas\u001b[39;00m file:\n\u001b[0;32m      2\u001b[0m     file\u001b[39m.\u001b[39mseek(\u001b[39m10\u001b[39m)  \u001b[39m# Moves the current position to the 10th byte from the beginning of the file\u001b[39;00m\n\u001b[0;32m      3\u001b[0m     position \u001b[39m=\u001b[39m file\u001b[39m.\u001b[39mtell()  \u001b[39m# Retrieves the current position\u001b[39;00m\n",
      "File \u001b[1;32m~\\AppData\\Roaming\\Python\\Python311\\site-packages\\IPython\\core\\interactiveshell.py:284\u001b[0m, in \u001b[0;36m_modified_open\u001b[1;34m(file, *args, **kwargs)\u001b[0m\n\u001b[0;32m    277\u001b[0m \u001b[39mif\u001b[39;00m file \u001b[39min\u001b[39;00m {\u001b[39m0\u001b[39m, \u001b[39m1\u001b[39m, \u001b[39m2\u001b[39m}:\n\u001b[0;32m    278\u001b[0m     \u001b[39mraise\u001b[39;00m \u001b[39mValueError\u001b[39;00m(\n\u001b[0;32m    279\u001b[0m         \u001b[39mf\u001b[39m\u001b[39m\"\u001b[39m\u001b[39mIPython won\u001b[39m\u001b[39m'\u001b[39m\u001b[39mt let you open fd=\u001b[39m\u001b[39m{\u001b[39;00mfile\u001b[39m}\u001b[39;00m\u001b[39m by default \u001b[39m\u001b[39m\"\u001b[39m\n\u001b[0;32m    280\u001b[0m         \u001b[39m\"\u001b[39m\u001b[39mas it is likely to crash IPython. If you know what you are doing, \u001b[39m\u001b[39m\"\u001b[39m\n\u001b[0;32m    281\u001b[0m         \u001b[39m\"\u001b[39m\u001b[39myou can use builtins\u001b[39m\u001b[39m'\u001b[39m\u001b[39m open.\u001b[39m\u001b[39m\"\u001b[39m\n\u001b[0;32m    282\u001b[0m     )\n\u001b[1;32m--> 284\u001b[0m \u001b[39mreturn\u001b[39;00m io_open(file, \u001b[39m*\u001b[39;49margs, \u001b[39m*\u001b[39;49m\u001b[39m*\u001b[39;49mkwargs)\n",
      "\u001b[1;31mFileNotFoundError\u001b[0m: [Errno 2] No such file or directory: 'example.txt'"
     ]
    }
   ],
   "source": [
    "with open('example.txt', 'r') as file:\n",
    "    file.seek(10)  # Moves the current position to the 10th byte from the beginning of the file\n",
    "    position = file.tell()  # Retrieves the current position\n",
    "\n",
    "print(position)  # Output: 10\n"
   ]
  },
  {
   "attachments": {},
   "cell_type": "markdown",
   "metadata": {},
   "source": [
    "Q7. When do you think you'll use the struct package the most?"
   ]
  },
  {
   "attachments": {},
   "cell_type": "markdown",
   "metadata": {},
   "source": [
    "The `struct` package in Python is primarily used for working with binary data and performing conversions between Python data types and C-style data structures. Here are some scenarios where you might find the `struct` package useful:\n",
    "\n",
    "1. **Parsing binary file formats**: If you're dealing with binary file formats such as images, audio files, or network protocols, the `struct` package can help you extract and interpret the binary data correctly. It allows you to unpack binary data into Python data types or pack Python data types into binary data structures.\n",
    "\n",
    "2. **Interfacing with low-level systems**: When interacting with low-level systems, such as device drivers or embedded systems, you may need to exchange data in a specific binary format. The `struct` package enables you to format and unpack data according to the requirements of the system.\n",
    "\n",
    "3. **Network programming**: In network programming, you often need to encode and decode data for transmission over a network. The `struct` package can assist in converting between Python data types and the network byte order (big-endian or little-endian) required by network protocols like TCP/IP or UDP.\n",
    "\n",
    "4. **Working with binary data received from external sources**: If you receive binary data from external sources, such as sensors, APIs, or databases, the `struct` package allows you to interpret and extract meaningful information from the binary streams.\n",
    "\n",
    "5. **Performance optimization**: In certain cases, using the `struct` package for handling binary data can be more efficient than manually parsing or manipulating the data. It leverages built-in C-level functions to perform conversions, which can provide a performance boost when dealing with large amounts of data.\n",
    "\n",
    "Overall, you are likely to use the `struct` package when working with binary data, particularly in scenarios involving file formats, low-level systems, network programming, and binary data parsing."
   ]
  },
  {
   "attachments": {},
   "cell_type": "markdown",
   "metadata": {},
   "source": [
    "Q8. When is pickling the best option?"
   ]
  },
  {
   "attachments": {},
   "cell_type": "markdown",
   "metadata": {},
   "source": [
    "Once a file is created it can be read by other python programs. The functions available in the pickle package\n",
    "\n",
    "take care how to represent the data is written in th file."
   ]
  },
  {
   "attachments": {},
   "cell_type": "markdown",
   "metadata": {},
   "source": [
    "Q9. When will it be best to use the shelve package?\n",
    "\n",
    "Shelve package is used to pickle data but treats the treats the entire file as dictionary. The location of any\n",
    "object is looked up according to its key and is returned easily."
   ]
  },
  {
   "attachments": {},
   "cell_type": "markdown",
   "metadata": {},
   "source": [
    " A “shelf” is a persistent, dictionary-like object. The difference with “dbm” databases is that the values \n",
    "      (not the keys!) in a shelf can be essentially arbitrary Python objects — anything that the pickle module can\n",
    "       handle. This includes most class instances, recursive data types, and objects containing lots of shared \n",
    "sub-objects. The keys are ordinary strings."
   ]
  },
  {
   "attachments": {},
   "cell_type": "markdown",
   "metadata": {},
   "source": [
    "Q10. What is a special restriction when using the shelve package, as opposed to using other data dictionaries?"
   ]
  },
  {
   "attachments": {},
   "cell_type": "markdown",
   "metadata": {},
   "source": [
    "When using the shelve package in Python, a special restriction to keep in mind is that the keys used in the shelve database must be strings. Unlike other data dictionaries, where keys can be of various types, shelve requires string keys due to the way it serializes and stores data.\n",
    "\n",
    "The shelve package is built on top of the pickle module, which is used for object serialization. pickle converts Python objects into a byte stream and vice versa. To store data efficiently, shelve internally uses pickle to serialize the keys, and since pickle supports only string keys, shelve enforces the same restriction.\n",
    "\n",
    "Here's an example illustrating the requirement of using string keys with shelve:"
   ]
  },
  {
   "cell_type": "code",
   "execution_count": 6,
   "metadata": {},
   "outputs": [
    {
     "ename": "AttributeError",
     "evalue": "'int' object has no attribute 'encode'",
     "output_type": "error",
     "traceback": [
      "\u001b[1;31m---------------------------------------------------------------------------\u001b[0m",
      "\u001b[1;31mAttributeError\u001b[0m                            Traceback (most recent call last)",
      "Cell \u001b[1;32mIn[6], line 6\u001b[0m\n\u001b[0;32m      4\u001b[0m \u001b[39mwith\u001b[39;00m shelve\u001b[39m.\u001b[39mopen(\u001b[39m'\u001b[39m\u001b[39mmydata\u001b[39m\u001b[39m'\u001b[39m) \u001b[39mas\u001b[39;00m db:\n\u001b[0;32m      5\u001b[0m     db[\u001b[39m'\u001b[39m\u001b[39mkey1\u001b[39m\u001b[39m'\u001b[39m] \u001b[39m=\u001b[39m \u001b[39m'\u001b[39m\u001b[39mvalue1\u001b[39m\u001b[39m'\u001b[39m  \u001b[39m# Valid - using a string key\u001b[39;00m\n\u001b[1;32m----> 6\u001b[0m     db[\u001b[39m123\u001b[39;49m] \u001b[39m=\u001b[39m \u001b[39m'\u001b[39m\u001b[39mvalue2\u001b[39m\u001b[39m'\u001b[39m  \u001b[39m# Invalid - using an integer key\u001b[39;00m\n\u001b[0;32m      8\u001b[0m     \u001b[39m# KeyError: '123'\u001b[39;00m\n\u001b[0;32m      9\u001b[0m     \u001b[39mprint\u001b[39m(db[\u001b[39m123\u001b[39m])\n",
      "File \u001b[1;32mc:\\Users\\dolly\\AppData\\Local\\Programs\\Python\\Python311\\Lib\\shelve.py:125\u001b[0m, in \u001b[0;36mShelf.__setitem__\u001b[1;34m(self, key, value)\u001b[0m\n\u001b[0;32m    123\u001b[0m p \u001b[39m=\u001b[39m Pickler(f, \u001b[39mself\u001b[39m\u001b[39m.\u001b[39m_protocol)\n\u001b[0;32m    124\u001b[0m p\u001b[39m.\u001b[39mdump(value)\n\u001b[1;32m--> 125\u001b[0m \u001b[39mself\u001b[39m\u001b[39m.\u001b[39mdict[key\u001b[39m.\u001b[39;49mencode(\u001b[39mself\u001b[39m\u001b[39m.\u001b[39mkeyencoding)] \u001b[39m=\u001b[39m f\u001b[39m.\u001b[39mgetvalue()\n",
      "\u001b[1;31mAttributeError\u001b[0m: 'int' object has no attribute 'encode'"
     ]
    }
   ],
   "source": [
    "import shelve\n",
    "\n",
    "# Create a new shelve database\n",
    "with shelve.open('mydata') as db:\n",
    "    db['key1'] = 'value1'  # Valid - using a string key\n",
    "    db[123] = 'value2'  # Invalid - using an integer key\n",
    "\n",
    "    # KeyError: '123'\n",
    "    print(db[123])\n"
   ]
  },
  {
   "attachments": {},
   "cell_type": "markdown",
   "metadata": {},
   "source": []
  }
 ],
 "metadata": {
  "kernelspec": {
   "display_name": "Python 3",
   "language": "python",
   "name": "python3"
  },
  "language_info": {
   "codemirror_mode": {
    "name": "ipython",
    "version": 3
   },
   "file_extension": ".py",
   "mimetype": "text/x-python",
   "name": "python",
   "nbconvert_exporter": "python",
   "pygments_lexer": "ipython3",
   "version": "3.11.3"
  },
  "orig_nbformat": 4
 },
 "nbformat": 4,
 "nbformat_minor": 2
}
