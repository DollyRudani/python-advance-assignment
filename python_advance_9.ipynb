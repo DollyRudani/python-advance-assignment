{
 "cells": [
  {
   "attachments": {},
   "cell_type": "markdown",
   "metadata": {},
   "source": [
    " Q1: In Python 3.X, what are the names and functions of string object types?Q"
   ]
  },
  {
   "attachments": {},
   "cell_type": "markdown",
   "metadata": {},
   "source": [
    "In Python 3.x, the string object type is represented by the `str` class. The `str` class provides various methods and functions for manipulating and working with strings. Here are some commonly used methods and functions of the `str` class:\n",
    "\n",
    "1. `capitalize()`: Returns a copy of the string with its first character capitalized and the rest lowercased.\n",
    "\n",
    "2. `lower()`: Returns a copy of the string converted to lowercase.\n",
    "\n",
    "3. `upper()`: Returns a copy of the string converted to uppercase.\n",
    "\n",
    "4. `strip()`: Returns a copy of the string with leading and trailing whitespace removed.\n",
    "\n",
    "5. `split()`: Splits the string into a list of substrings based on a delimiter. If no delimiter is specified, it splits on whitespace.\n",
    "\n",
    "6. `join(iterable)`: Concatenates the elements of an iterable (e.g., a list) into a single string using the original string as the delimiter.\n",
    "\n",
    "7. `replace(old, new)`: Returns a copy of the string with all occurrences of the `old` substring replaced by the `new` substring.\n",
    "\n",
    "8. `startswith(prefix)`: Checks if the string starts with the specified `prefix` and returns `True` or `False` accordingly.\n",
    "\n",
    "9. `endswith(suffix)`: Checks if the string ends with the specified `suffix` and returns `True` or `False` accordingly.\n",
    "\n",
    "10. `find(sub)`: Returns the lowest index in the string where the `sub` substring is found. Returns -1 if the substring is not found.\n",
    "\n",
    "11. `count(sub)`: Returns the number of non-overlapping occurrences of the `sub` substring in the string.\n",
    "\n",
    "12. `len()`: Returns the length of the string (number of characters).\n",
    "\n",
    "These are just a few examples of the methods and functions available for the string object type in Python 3.x. The `str` class provides many more useful operations for working with strings. You can refer to the Python documentation for a comprehensive list of available methods and functions for strings."
   ]
  },
  {
   "attachments": {},
   "cell_type": "markdown",
   "metadata": {},
   "source": [
    "Q2. How do the string forms in Python 3.X vary in terms of operations?"
   ]
  },
  {
   "attachments": {},
   "cell_type": "markdown",
   "metadata": {},
   "source": [
    "In Python 3.x, there are three different types of string literals that can be used to represent strings: \n",
    "\n",
    "1. Single-quoted strings: Strings enclosed in single quotes, such as `'Hello, world!'`. Single-quoted strings are widely used and support most of the common string operations.\n",
    "\n",
    "2. Double-quoted strings: Strings enclosed in double quotes, such as `\"Hello, world!\"`. Double-quoted strings are identical to single-quoted strings in terms of functionality, and you can use either style based on personal preference or to avoid escaping quotes within the string.\n",
    "\n",
    "3. Triple-quoted strings: Strings enclosed in triple quotes, such as `'''Hello, world!'''` or `\"\"\"Hello, world!\"\"\"`. Triple-quoted strings are used for multi-line strings or strings that contain both single and double quotes. They preserve the line breaks and allow for easier formatting of long strings.\n",
    "\n",
    "Regardless of the type of string literal used, strings in Python are immutable, meaning that they cannot be changed once created. This immutability affects the way string operations are performed. Instead of modifying a string directly, string operations typically return a new string with the desired modifications.\n",
    "\n",
    "Here are some common string operations that can be performed on string objects in Python 3.x:\n",
    "\n",
    "1. Concatenation: Strings can be concatenated using the `+` operator. For example:\n"
   ]
  },
  {
   "cell_type": "code",
   "execution_count": 2,
   "metadata": {},
   "outputs": [],
   "source": [
    "greeting = \"Hello\"\n",
    "name = \"Alice\"\n",
    "message = greeting + \", \" + name\n"
   ]
  },
  {
   "attachments": {},
   "cell_type": "markdown",
   "metadata": {},
   "source": [
    "2.Repetition: Strings can be repeated using the * operator. For example:"
   ]
  },
  {
   "cell_type": "code",
   "execution_count": 3,
   "metadata": {},
   "outputs": [],
   "source": [
    "line = \"-\" * 10\n"
   ]
  },
  {
   "attachments": {},
   "cell_type": "markdown",
   "metadata": {},
   "source": [
    "3. indexing: Individual characters of a string can be accessed using indexing. Indices start from 0. For example:"
   ]
  },
  {
   "cell_type": "code",
   "execution_count": 4,
   "metadata": {},
   "outputs": [],
   "source": [
    "s = \"Hello\"\n",
    "first_character = s[0]\n"
   ]
  },
  {
   "attachments": {},
   "cell_type": "markdown",
   "metadata": {},
   "source": [
    "4. Slicing: Substrings can be extracted using slicing. Slicing allows you to specify a range of indices to extract a portion of the string. For example:"
   ]
  },
  {
   "cell_type": "code",
   "execution_count": 5,
   "metadata": {},
   "outputs": [],
   "source": [
    "s = \"Hello, world!\"\n",
    "substring = s[7:12]\n"
   ]
  },
  {
   "attachments": {},
   "cell_type": "markdown",
   "metadata": {},
   "source": [
    "Q3. In 3.X, how do you put non-ASCII Unicode characters in a string?"
   ]
  },
  {
   "attachments": {},
   "cell_type": "markdown",
   "metadata": {},
   "source": [
    "As we know, there are only 127 ASCII characters in ascci table.It stores symbols, letters, whitespace characters,non\n",
    "printable characters, which are very less. So Python 3 has adopted unicode encoding of strings. For non ASCII u can get\n",
    "any value more than 127."
   ]
  },
  {
   "cell_type": "code",
   "execution_count": 6,
   "metadata": {},
   "outputs": [
    {
     "name": "stdout",
     "output_type": "stream",
     "text": [
      "Naughty©\n"
     ]
    }
   ],
   "source": [
    "s=\"Naughty\"\n",
    "s+=chr(128)+chr(169)\n",
    "print(s)"
   ]
  },
  {
   "attachments": {},
   "cell_type": "markdown",
   "metadata": {},
   "source": [
    "Q4. In Python 3.X, what are the key differences between text-mode and binary-mode files?"
   ]
  },
  {
   "attachments": {},
   "cell_type": "markdown",
   "metadata": {},
   "source": [
    "File opened in binary mode (appending \"b\" to the mode argument) return contents as bytes objects without any decoding.\n",
    "In text mode (the default, or when \"t0\" is appended to the mode argument), the contents of the file are returned as\n",
    "strings, the bytes having been first decorded using a platform-dependent encoding or using the specified encoding if \n",
    "given."
   ]
  },
  {
   "attachments": {},
   "cell_type": "markdown",
   "metadata": {},
   "source": [
    "Q5. How can you interpret a Unicode text file containing text encoded in a different encoding than your platform's default?"
   ]
  },
  {
   "cell_type": "code",
   "execution_count": 7,
   "metadata": {},
   "outputs": [
    {
     "name": "stdout",
     "output_type": "stream",
     "text": [
      "this is sample text file for understanding encoding\n"
     ]
    }
   ],
   "source": [
    "text=\"this is sample text file for understanding encoding\"\n",
    "f=open(\"sample.txt\",\"w\",encoding=\"utf16\")\n",
    "f.write(text)\n",
    "f.close()\n",
    "\n",
    "f=open(\"sample.txt\",\"r\",encoding=\"utf16\")\n",
    "print(f.read())"
   ]
  },
  {
   "cell_type": "code",
   "execution_count": 9,
   "metadata": {},
   "outputs": [
    {
     "name": "stdout",
     "output_type": "stream",
     "text": [
      "my name is Dolly\n"
     ]
    }
   ],
   "source": [
    "text1=\"my name is Dolly\"\n",
    "encoded_data=text1.encode(\"utf16\")\n",
    "\n",
    "file=open(\"sample1.txt\",\"wb\")\n",
    "file.write(encoded_data)\n",
    "file=open(\"sample1.txt\",\"r\",encoding=\"utf16\")\n",
    "print(file.read())"
   ]
  },
  {
   "attachments": {},
   "cell_type": "markdown",
   "metadata": {},
   "source": [
    "Q6. What is the best way to make a Unicode text file in a particular encoding format?"
   ]
  },
  {
   "cell_type": "code",
   "execution_count": 10,
   "metadata": {},
   "outputs": [
    {
     "name": "stdout",
     "output_type": "stream",
     "text": [
      "b'\\xd1\\x83\\xd0\\xbb\\xd1\\x8b\\xd0\\xb1\\xd0\\xb0\\xd1\\x82\\xd1\\x8c\\xd1\\x81\\xd1\\x8f \\xd0\\x92\\xd0\\xbb\\xd0\\xb0\\xd0\\xb4\\xd0\\xb8\\xd0\\xbc\\xd0\\xb8\\xd1\\x80 \\xd0\\x9f\\xd1\\x83\\xd1\\x82\\xd0\\xb8\\xd0\\xbd'\n",
      "\n",
      "b'\\xd1\\x83\\xd0\\xbb\\xd1\\x8b\\xd0\\xb1\\xd0\\xb0\\xd1\\x82\\xd1\\x8c\\xd1\\x81\\xd1\\x8f \\xd0\\x92\\xd0\\xbb\\xd0\\xb0\\xd0\\xb4\\xd0\\xb8\\xd0\\xbc\\xd0\\xb8\\xd1\\x80 \\xd0\\x9f\\xd1\\x83\\xd1\\x82\\xd0\\xb8\\xd0\\xbd'\n"
     ]
    }
   ],
   "source": [
    "unicode_text = u\"улыбаться Владимир Путин\"\n",
    "encoded_unicode_text = unicode_text.encode(\"utf-8\")\n",
    "print(encoded_unicode_text,end=\"\\n\\n\")\n",
    "\n",
    "w_file = open(\"w_file.txt\",\"wb\")\n",
    "w_file.write(encoded_unicode_text)\n",
    "w_file.close()\n",
    "\n",
    "r_file = open(\"w_file.txt\",\"rb\")\n",
    "data = r_file.read()\n",
    "print(data)"
   ]
  },
  {
   "attachments": {},
   "cell_type": "markdown",
   "metadata": {},
   "source": [
    "Q7. What qualifies ASCII text as a form of Unicode text?"
   ]
  },
  {
   "attachments": {},
   "cell_type": "markdown",
   "metadata": {},
   "source": [
    "ASCII text can be considered a form of Unicode text because ASCII characters are a subset of the Unicode character set. Unicode is a universal character encoding standard that aims to represent every character from every writing system in the world.\n",
    "\n",
    "The ASCII (American Standard Code for Information Interchange) character set is a widely used character encoding scheme that represents characters using 7 bits, allowing for a total of 128 characters. ASCII includes basic Latin letters (A-Z, a-z), digits (0-9), punctuation marks, and control characters.\n",
    "\n",
    "Unicode, on the other hand, extends beyond the ASCII character set and includes a much larger set of characters. The Unicode standard assigns a unique code point (a numerical value) to each character, including characters from various scripts, symbols, emojis, and special characters from different languages.\n",
    "\n",
    "Since the ASCII character set is a subset of Unicode, any text that consists only of ASCII characters is also valid Unicode text. In other words, ASCII text can be represented using Unicode encoding, and Unicode provides a way to represent ASCII characters along with a much broader range of characters from different writing systems.\n",
    "\n",
    "When working with Unicode text in Python, the `str` class represents strings as sequences of Unicode characters by default. This means that you can freely mix ASCII and non-ASCII characters in Python strings, and they will be stored and processed as Unicode text. Python provides various built-in functions and libraries for working with Unicode, allowing you to handle text in different languages and character sets seamlessly."
   ]
  },
  {
   "attachments": {},
   "cell_type": "markdown",
   "metadata": {},
   "source": [
    "Q8. How much of an effect does the change in string types in Python 3.X have on your code?"
   ]
  },
  {
   "attachments": {},
   "cell_type": "markdown",
   "metadata": {},
   "source": [
    "The change in string types in Python 3.x, where strings are represented by the `str` class by default, can have some impact on your code if you were previously relying on specific behaviors of the older string type (`unicode` in Python 2.x) or if you were working with non-ASCII characters extensively. However, for most cases, the transition to the `str` class in Python 3.x is relatively smooth.\n",
    "\n",
    "Here are some factors to consider regarding the impact on your code:\n",
    "\n",
    "1. Encoding and decoding: In Python 2.x, strings were represented as bytes by default, and Unicode strings were represented by the `unicode` type. In Python 3.x, the `str` type represents both ASCII and Unicode text. This change means that you need to be more explicit about encoding and decoding when working with non-ASCII characters or when interacting with external systems that expect specific encodings.\n",
    "\n",
    "2. Print statements: In Python 2.x, the `print` statement did not require parentheses, whereas in Python 3.x, it is a function and requires parentheses. So, if your code extensively uses the `print` statement without parentheses, you will need to update those statements.\n",
    "\n",
    "3. String literals and syntax: Python 3.x introduced some changes in string literals and syntax. For example, the `u` prefix for Unicode literals is no longer necessary, as all string literals are Unicode by default. Additionally, the syntax for string formatting using `%` has been replaced with the more versatile `str.format()` method or f-strings (formatted string literals). These changes require minor adjustments to the syntax of your code when migrating from Python 2.x.\n",
    "\n",
    "4. Unicode support: Python 3.x provides better and more consistent support for Unicode compared to Python 2.x. Unicode characters can be directly included in strings without any encoding-related issues. This is especially important when working with non-ASCII characters or multiple languages.\n",
    "\n",
    "5. String methods: The `str` class in Python 3.x provides additional string methods and improvements over the older string type. These new methods allow for more efficient and expressive string manipulation.\n",
    "\n",
    "Overall, while there may be some necessary changes in your code when transitioning from Python 2.x to Python 3.x, the impact is usually manageable. Python provides tools like the `2to3` utility, which can automatically convert your code from Python 2.x to Python 3.x syntax, and there are also various compatibility libraries and guides available to assist in the migration process."
   ]
  },
  {
   "attachments": {},
   "cell_type": "markdown",
   "metadata": {},
   "source": []
  }
 ],
 "metadata": {
  "kernelspec": {
   "display_name": "Python 3",
   "language": "python",
   "name": "python3"
  },
  "language_info": {
   "codemirror_mode": {
    "name": "ipython",
    "version": 3
   },
   "file_extension": ".py",
   "mimetype": "text/x-python",
   "name": "python",
   "nbconvert_exporter": "python",
   "pygments_lexer": "ipython3",
   "version": "3.11.3"
  },
  "orig_nbformat": 4
 },
 "nbformat": 4,
 "nbformat_minor": 2
}
