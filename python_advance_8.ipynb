{
 "cells": [
  {
   "attachments": {},
   "cell_type": "markdown",
   "metadata": {},
   "source": [
    "Q 1: What are the two latest user-defined exception constraints in Python 3.X?"
   ]
  },
  {
   "attachments": {},
   "cell_type": "markdown",
   "metadata": {},
   "source": [
    "1. Inheriting from the built-in Exception class: To define a custom exception, you can create a new class that inherits from the built-in Exception class or any of its subclasses. This allows you to create a hierarchy of custom exceptions tailored to your needs. For example:\n"
   ]
  },
  {
   "cell_type": "code",
   "execution_count": null,
   "metadata": {},
   "outputs": [],
   "source": [
    "class MyCustomException(Exception):\n",
    "    pass\n"
   ]
  },
  {
   "attachments": {},
   "cell_type": "markdown",
   "metadata": {},
   "source": [
    "2. Defining specific exception attributes and methods: When defining your custom exception class, you can include additional attributes and methods specific to your exception. This can be useful for providing more information about the exception or customizing its behavior. For instance:"
   ]
  },
  {
   "cell_type": "code",
   "execution_count": null,
   "metadata": {},
   "outputs": [],
   "source": [
    "class MyCustomException(Exception):\n",
    "    def __init__(self, message, code):\n",
    "        super().__init__(message)\n",
    "        self.code = code\n",
    "\n",
    "    def __str__(self):\n",
    "        return f\"MyCustomException: {self.args[0]}, Code: {self.code}\"\n"
   ]
  },
  {
   "attachments": {},
   "cell_type": "markdown",
   "metadata": {},
   "source": [
    "Q 2: How are class-based exceptions that have been raised matched to handlers?"
   ]
  },
  {
   "attachments": {},
   "cell_type": "markdown",
   "metadata": {},
   "source": [
    "When exceptions are raised, then the exception is handled by same mentioned in except statement or its base classes.\n",
    "\"Exception\" is the base class(superclass) for all other exception classes."
   ]
  },
  {
   "attachments": {},
   "cell_type": "markdown",
   "metadata": {},
   "source": [
    "Q3. Describe two methods for attaching context information to exception artefacts."
   ]
  },
  {
   "attachments": {},
   "cell_type": "markdown",
   "metadata": {},
   "source": [
    "When dealing with exceptions in Python, it's often useful to attach context information to exception artifacts to provide additional details about the exception's cause or the state of the program when the exception occurred. Here are two common methods for attaching context information to exception artifacts:\n",
    "\n",
    "Using the args attribute:\n",
    "The args attribute of an exception object allows you to provide additional context information by passing it as arguments when raising the exception. You can define custom exception classes and pass relevant information during the exception initialization. The passed arguments can then be accessed through the args attribute of the exception object. Here's an example:"
   ]
  },
  {
   "cell_type": "code",
   "execution_count": null,
   "metadata": {},
   "outputs": [],
   "source": [
    "class MyCustomException(Exception):\n",
    "    pass\n",
    "\n",
    "try:\n",
    "    # Code that may raise an exception\n",
    "    raise MyCustomException(\"An error occurred\", 42)\n",
    "except MyCustomException as ex:\n",
    "    print(ex.args)\n"
   ]
  },
  {
   "attachments": {},
   "cell_type": "markdown",
   "metadata": {},
   "source": [
    "In this example, when MyCustomException is raised, it takes two arguments: the error message and the context information. The args attribute of the exception object ex will contain the passed arguments, which can be accessed and utilized for further processing or error reporting.\n",
    "\n",
    "2. Creating custom exception attributes:\n",
    "Another method to attach context information to exception artifacts is by defining custom attributes within the exception class. By doing this, you can add specific attributes that provide relevant details about the exception. Here's an example:"
   ]
  },
  {
   "cell_type": "code",
   "execution_count": null,
   "metadata": {},
   "outputs": [],
   "source": [
    "class MyCustomException(Exception):\n",
    "    def __init__(self, message):\n",
    "        super().__init__(message)\n",
    "        self.context = {\n",
    "            'timestamp': get_current_timestamp(),\n",
    "            'user_id': get_current_user_id(),\n",
    "            # Other relevant context information\n",
    "        }\n",
    "\n",
    "try:\n",
    "    # Code that may raise an exception\n",
    "    raise MyCustomException(\"An error occurred\")\n",
    "except MyCustomException as ex:\n",
    "    print(ex.context)\n"
   ]
  },
  {
   "attachments": {},
   "cell_type": "markdown",
   "metadata": {},
   "source": [
    "In this example, MyCustomException includes a context attribute that holds a dictionary of relevant context information such as a timestamp or user ID. When the exception is raised, this context information can be accessed through the context attribute of the exception object, allowing you to access and utilize the specific context details associated with the exception.\n",
    "\n",
    "By using these methods, you can provide additional context information with your exceptions, enabling better error handling, debugging, and logging within your Python programs."
   ]
  },
  {
   "attachments": {},
   "cell_type": "markdown",
   "metadata": {},
   "source": [
    "Q4. Describe two methods for specifying the text of an exception object's error message."
   ]
  },
  {
   "attachments": {},
   "cell_type": "markdown",
   "metadata": {},
   "source": [
    "When specifying the text of an exception object's error message in Python, you have several options to choose from. Here are two common methods for specifying the text of an exception object's error message:\n",
    "\n",
    "1. Passing a message as an argument during exception initialization:\n",
    "One way to specify the error message of an exception object is by passing it as an argument during the initialization of the exception. This approach allows you to provide a custom error message specific to the raised exception. Here's an example:"
   ]
  },
  {
   "cell_type": "code",
   "execution_count": null,
   "metadata": {},
   "outputs": [],
   "source": [
    "class MyCustomException(Exception):\n",
    "    pass\n",
    "\n",
    "try:\n",
    "    # Code that may raise an exception\n",
    "    raise MyCustomException(\"An error occurred\")\n",
    "except MyCustomException as ex:\n",
    "    print(ex)\n"
   ]
  },
  {
   "attachments": {},
   "cell_type": "markdown",
   "metadata": {},
   "source": [
    "In this example, when MyCustomException is raised, it takes the error message \"An error occurred\" as an argument. When printing the exception object ex, it will display the error message specified during the exception initialization.\n",
    "\n",
    "2. Overriding the __str__ method in the exception class:\n",
    "Another method to specify the error message of an exception object is by overriding the __str__ method in the exception class. By doing this, you can customize the string representation of the exception object, allowing you to provide a specific error message or include additional information. Here's an example:"
   ]
  },
  {
   "cell_type": "code",
   "execution_count": null,
   "metadata": {},
   "outputs": [],
   "source": [
    "class MyCustomException(Exception):\n",
    "    def __str__(self):\n",
    "        return \"An error occurred: Custom error message\"\n",
    "\n",
    "try:\n",
    "    # Code that may raise an exception\n",
    "    raise MyCustomException()\n",
    "except MyCustomException as ex:\n",
    "    print(ex)\n"
   ]
  },
  {
   "attachments": {},
   "cell_type": "markdown",
   "metadata": {},
   "source": [
    "Q5. Why do you no longer use string-based exceptions?"
   ]
  },
  {
   "attachments": {},
   "cell_type": "markdown",
   "metadata": {},
   "source": [
    "The primary reasons for moving away from string-based exceptions are:\n",
    "\n",
    "1. Lack of Type Information: String-based exceptions do not provide any type information about the exception itself. They are simply arbitrary strings used as error identifiers. This lack of type information makes it difficult to handle exceptions selectively based on their types and can lead to less robust and more error-prone code.\n",
    "\n",
    "2. Difficulty in Exception Handling: String-based exceptions require manual string comparisons to handle and differentiate between different exceptions. This approach is prone to errors, as string comparisons can be error-prone due to typos, case sensitivity, or changes in the error message. It can also make exception handling less readable and maintainable.\n",
    "\n",
    "3. Limited Extensibility: String-based exceptions offer limited extensibility compared to class-based exceptions. With class-based exceptions, you can define custom exception hierarchies, add additional attributes and methods to exceptions, and create more meaningful and specialized exception handling mechanisms.\n",
    "\n",
    "4. Clearer and More Descriptive Error Messages: Class-based exceptions allow you to override the `__str__` method to provide a customized and descriptive error message for the exception. This can greatly enhance error reporting and debugging by providing clearer information about the cause of the exception.\n",
    "\n",
    "5. Compatibility with Exception Hierarchy: Python's built-in exception hierarchy is based on class-based exceptions. By using class-based exceptions, you can take advantage of the existing exception hierarchy and utilize the appropriate built-in exception types or create custom exception subclasses to fit your specific needs.\n",
    "\n",
    "Overall, class-based exceptions offer better type safety, more expressive error handling, improved extensibility, and clearer error messages compared to string-based exceptions. It is generally recommended to use class-based exceptions in Python to write more robust and maintainable code."
   ]
  },
  {
   "attachments": {},
   "cell_type": "markdown",
   "metadata": {},
   "source": []
  }
 ],
 "metadata": {
  "language_info": {
   "name": "python"
  },
  "orig_nbformat": 4
 },
 "nbformat": 4,
 "nbformat_minor": 2
}
