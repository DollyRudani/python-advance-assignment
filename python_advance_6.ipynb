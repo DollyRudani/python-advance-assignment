{
 "cells": [
  {
   "cell_type": "markdown",
   "id": "a587a55d",
   "metadata": {},
   "source": [
    "1. Describe three applications for exception processing."
   ]
  },
  {
   "cell_type": "markdown",
   "id": "2c41eb73",
   "metadata": {},
   "source": [
    "Exceptions are raised when the program is syntactically correct,but code resulted in an error .This error does not \n",
    "stop the execution of the program, however, it changes the normal flow of the program."
   ]
  },
  {
   "cell_type": "code",
   "execution_count": 8,
   "id": "ebca9a0f",
   "metadata": {},
   "outputs": [
    {
     "ename": "SyntaxError",
     "evalue": "invalid syntax (2965243219.py, line 11)",
     "output_type": "error",
     "traceback": [
      "\u001b[1;36m  Cell \u001b[1;32mIn[8], line 11\u001b[1;36m\u001b[0m\n\u001b[1;33m    b=\u001b[0m\n\u001b[1;37m      ^\u001b[0m\n\u001b[1;31mSyntaxError\u001b[0m\u001b[1;31m:\u001b[0m invalid syntax\n"
     ]
    }
   ],
   "source": [
    "def div(a,b):\n",
    "    try:\n",
    "        c=a/b\n",
    "        print(\"a/b= \",c)\n",
    "    except Exception as e:\n",
    "        print(e)\n",
    "        return \"can't divide by zero\"\n",
    "    else:\n",
    "        return \"This is else block and executed when code in try excetues without any exception\"\n",
    "a=int(input(\"Enter a:\"))\n",
    "b="
   ]
  },
  {
   "cell_type": "code",
   "execution_count": 9,
   "id": "4993d05e",
   "metadata": {},
   "outputs": [
    {
     "name": "stdout",
     "output_type": "stream",
     "text": [
      "[Errno 2] No such file or directory: 'sample.txt'\n",
      "program is not interrupted\n"
     ]
    }
   ],
   "source": [
    "try:\n",
    "    f=open(\"sample.txt\",\"r\")\n",
    "except Exception as e:\n",
    "    print(e)\n",
    "else:\n",
    "    print(\"File opened successfully\")\n",
    "    f.close()\n",
    "print(\"program is not interrupted\")\n",
    "\n",
    "# If we dont use try except else blocks, normal execution of program will be interrupted.\n",
    "\n",
    "# with try except, exception is caught when file is not found but program continues execution"
   ]
  },
  {
   "cell_type": "code",
   "execution_count": 10,
   "id": "32c10c63",
   "metadata": {},
   "outputs": [
    {
     "name": "stdout",
     "output_type": "stream",
     "text": [
      "Exception!!\n"
     ]
    }
   ],
   "source": [
    "try:\n",
    "    raise NameError(\"Rohit\")\n",
    "except NameError as e:\n",
    "    print(\"Exception!!\")"
   ]
  },
  {
   "cell_type": "markdown",
   "id": "331568fc",
   "metadata": {},
   "source": [
    "2.What happens if you don't do something extra to treat an exception?"
   ]
  },
  {
   "cell_type": "markdown",
   "id": "70f38204",
   "metadata": {},
   "source": [
    "When an exception occurred, if you don’t handle it, the program terminates abruptly and the code past the line that caused the exception will not get executed."
   ]
  },
  {
   "cell_type": "markdown",
   "id": "8081d88a",
   "metadata": {},
   "source": [
    "3. What are your options for recovering from an exception in your script?"
   ]
  },
  {
   "cell_type": "markdown",
   "id": "cf32deb8",
   "metadata": {},
   "source": [
    "In except block, we write a code to handle exception and next set of actions."
   ]
  },
  {
   "cell_type": "code",
   "execution_count": 12,
   "id": "9c9529d7",
   "metadata": {},
   "outputs": [
    {
     "name": "stdout",
     "output_type": "stream",
     "text": [
      "Enter an integer value::8\n",
      "Yes you have entered an integer 8\n",
      "YYaaaaa i always executes!!\n"
     ]
    }
   ],
   "source": [
    "def askint():\n",
    "    while True:\n",
    "        try:\n",
    "            a=int(input(\"Enter an integer value::\"))\n",
    "        except Exception as e:\n",
    "            print(e)\n",
    "            print(\"please enter a integer value \")\n",
    "            continue\n",
    "        else:\n",
    "            print(f\"Yes you have entered an integer {a}\")\n",
    "            break\n",
    "        finally:\n",
    "            print(\"YYaaaaa i always executes!!\")\n",
    "askint()"
   ]
  },
  {
   "cell_type": "markdown",
   "id": "02967462",
   "metadata": {},
   "source": [
    "4. Describe two methods for triggering exceptions in your script."
   ]
  },
  {
   "cell_type": "markdown",
   "id": "5534bed6",
   "metadata": {},
   "source": [
    "Try statement- This method throws the exceptions when the code within try is executed.\n",
    "\n",
    "Raise-Triggers an exception manually using custom exceptions.\n",
    "\n",
    "Example are already explained above."
   ]
  },
  {
   "cell_type": "markdown",
   "id": "cd68872d",
   "metadata": {},
   "source": [
    "5. . Identify two methods for specifying actions to be executed at termination time, regardless of whether or not an exception exists."
   ]
  },
  {
   "cell_type": "markdown",
   "id": "a192e817",
   "metadata": {},
   "source": [
    "In else block, code is written to handle if no exception is raised by code in try block.\n",
    "\n",
    "In finally block, code executes regardless of whether or not an exception exists."
   ]
  },
  {
   "cell_type": "code",
   "execution_count": null,
   "id": "7b9a03b6",
   "metadata": {},
   "outputs": [],
   "source": []
  }
 ],
 "metadata": {
  "kernelspec": {
   "display_name": "Python 3 (ipykernel)",
   "language": "python",
   "name": "python3"
  },
  "language_info": {
   "codemirror_mode": {
    "name": "ipython",
    "version": 3
   },
   "file_extension": ".py",
   "mimetype": "text/x-python",
   "name": "python",
   "nbconvert_exporter": "python",
   "pygments_lexer": "ipython3",
   "version": "3.10.9"
  }
 },
 "nbformat": 4,
 "nbformat_minor": 5
}
