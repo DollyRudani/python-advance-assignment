{
 "cells": [
  {
   "attachments": {},
   "cell_type": "markdown",
   "metadata": {},
   "source": [
    "Q1. Is it permissible to use several import statements to import the same module? What would the goal be? Can you think of a situation where it would be beneficial?\n",
    "\n",
    "Yes, it is permissiible to use several import statements to import the same module.It is used in case when in case when we have to import multiple functions from same module.\n",
    "\n",
    "Q2. What are some of a module';s characteristics? (Name at least one.)"
   ]
  },
  {
   "cell_type": "code",
   "execution_count": 1,
   "metadata": {},
   "outputs": [],
   "source": [
    "#  The following are some of a module's characteristics:\n",
    "\n",
    "# __name__ : It returns the name of the module\n",
    "\n",
    "# __doc__ : It denotes the documentation string line written in a module code.\n",
    "\n",
    "# __file__ : It holds the name and path of the module file from which it is loaded\n",
    "\n",
    "# __dict__ : It return a dictionary object of module attributes, functions and other definitions and their respective values"
   ]
  },
  {
   "attachments": {},
   "cell_type": "markdown",
   "metadata": {},
   "source": [
    "Q3. Circular importing, such as when two modules import each other, can lead to dependencies and bugs that aren't visible. How can you go about creating a program that avoids mutual importing?"
   ]
  },
  {
   "attachments": {},
   "cell_type": "markdown",
   "metadata": {},
   "source": [
    "To avoid circular importing and the potential issues it can cause, you can follow these strategies when structuring your program:\n",
    "\n",
    "1. **Analyze and refactor module dependencies**: Carefully analyze the dependencies between modules in your program. Identify any circular dependencies and consider whether they are necessary or can be eliminated. Look for opportunities to refactor and decouple the code to reduce interdependencies.\n",
    "\n",
    "2. **Use a third module as an intermediary**: If two modules need to share functionality, consider creating a third module that encapsulates the common functionality. Both modules can then import and use the third module without directly importing each other. This approach helps break the circular dependency.\n",
    "\n",
    "3. **Split functionality into separate modules**: Evaluate if there is an opportunity to split the functionality into separate modules to reduce interdependencies. By organizing your code into smaller, more focused modules, you can often avoid circular importing scenarios.\n",
    "\n",
    "4. **Use function parameters or method calls**: Instead of directly importing a module, you can pass necessary objects, variables, or references as parameters to functions or methods. This allows modules to interact without directly importing each other.\n",
    "\n",
    "5. **Apply lazy imports**: Delay the import of a module until it is needed. Rather than importing modules at the top of your file, import them within functions or methods where they are required. This helps to avoid importing modules that have circular dependencies during the initial module loading.\n",
    "\n",
    "6. **Reconsider module design and structure**: If circular dependencies persist despite attempts to refactor, it may be necessary to rethink the overall design and structure of your program. Consider adopting design patterns, such as dependency injection or the observer pattern, to decouple modules and reduce interdependencies.\n",
    "\n",
    "7. **Leverage package-level imports**: If you are working with multiple packages, you can utilize package-level imports, where imports are specified in the `__init__.py` files of the respective packages. This allows you to control the order of imports and can help resolve circular importing issues.\n",
    "\n",
    "By applying these strategies and carefully managing module dependencies, you can minimize the occurrence of circular importing and avoid the associated bugs and hidden dependencies in your program."
   ]
  },
  {
   "attachments": {},
   "cell_type": "markdown",
   "metadata": {},
   "source": [
    "Q4. Why is _ all _ in Python?"
   ]
  },
  {
   "attachments": {},
   "cell_type": "markdown",
   "metadata": {},
   "source": [
    "It provides list of all modules present in a library."
   ]
  },
  {
   "attachments": {},
   "cell_type": "markdown",
   "metadata": {},
   "source": [
    "Q5. In what situation is it useful to refer to the _ name _ attribute or the string \"_ main _\"?"
   ]
  },
  {
   "attachments": {},
   "cell_type": "markdown",
   "metadata": {},
   "source": [
    "The __name__ attribute and the string \"__main__\" are commonly used in Python scripts to determine whether the current module is being run as the main program or being imported as a module.\n",
    "\n",
    "Here's a situation where it is useful to refer to the __name__ attribute or the string \"__main__\":\n",
    "\n",
    "Script Execution: When you have a Python script that can be executed directly, you may want to include certain code that should only run when the script is executed as the main program, not when it is imported as a module. In such cases, you can use the __name__ attribute to check if the module is the main program.\n",
    "\n",
    "For example, consider a script named \"example.py\" that contains the following code:"
   ]
  },
  {
   "cell_type": "code",
   "execution_count": 3,
   "metadata": {},
   "outputs": [
    {
     "name": "stdout",
     "output_type": "stream",
     "text": [
      "This is the main program.\n"
     ]
    }
   ],
   "source": [
    "def main():\n",
    "    # Code specific to the main program execution\n",
    "    print(\"This is the main program.\")\n",
    "\n",
    "if __name__ == \"__main__\":\n",
    "    main()\n"
   ]
  },
  {
   "attachments": {},
   "cell_type": "markdown",
   "metadata": {},
   "source": [
    "When you run this script directly, i.e., python example.py, the __name__ attribute will have the value \"__main__\", and the main() function will be executed, printing \"This is the main program.\" However, if you import this script as a module in another script, the __name__ attribute will have the name of the module (e.g., \"example\"), and the main() function will not be executed.\n",
    "\n",
    "This allows you to have code that should only run when the script is executed directly, but not when it is imported as a module. It is useful for separating executable code from reusable module code."
   ]
  },
  {
   "attachments": {},
   "cell_type": "markdown",
   "metadata": {},
   "source": [
    "Q6. What are some of the benefits of attaching a program counter to the RPN interpreter application, which interprets an RPN script line by line?"
   ]
  },
  {
   "cell_type": "code",
   "execution_count": 2,
   "metadata": {},
   "outputs": [
    {
     "data": {
      "text/plain": [
       "True"
      ]
     },
     "execution_count": 2,
     "metadata": {},
     "output_type": "execute_result"
    }
   ],
   "source": [
    "'''\n",
    "The function returns True if we can add operator to current expression:\n",
    "we scan the list and add +1 to counter when we meet a letter\n",
    "and we add -1 when we meet an operator (it reduces\n",
    "last two letters into 1 (say ab+ <--> a + b)\n",
    "''' \n",
    "def can_add_operator(string_):\n",
    "    n = 0\n",
    "    for letter in string_:\n",
    "        if letter not in ['+', '-', '*', '/']:\n",
    "            n += 1\n",
    "        else:\n",
    "            n -= 1\n",
    "    result = n > 1\n",
    "    return result\n",
    "\n",
    "\n",
    "can_add_operator('abc') #False\n",
    "can_add_operator('abc')  #True"
   ]
  },
  {
   "attachments": {},
   "cell_type": "markdown",
   "metadata": {},
   "source": [
    "Q7. What are the minimum expressions or statements (or both) that you\"d need to render a basic programming language like RPN primitive but complete— that is, capable of carrying out any computerised task theoretically possible?\n",
    "\n",
    "Notations : +-/* These are the basic notations we require to carry out a computerised task ,like RPN Primitive. We also need a particular data structure fo staring elements from a statement except operators."
   ]
  },
  {
   "attachments": {},
   "cell_type": "markdown",
   "metadata": {},
   "source": []
  }
 ],
 "metadata": {
  "kernelspec": {
   "display_name": "Python 3",
   "language": "python",
   "name": "python3"
  },
  "language_info": {
   "codemirror_mode": {
    "name": "ipython",
    "version": 3
   },
   "file_extension": ".py",
   "mimetype": "text/x-python",
   "name": "python",
   "nbconvert_exporter": "python",
   "pygments_lexer": "ipython3",
   "version": "3.11.3"
  },
  "orig_nbformat": 4
 },
 "nbformat": 4,
 "nbformat_minor": 2
}
