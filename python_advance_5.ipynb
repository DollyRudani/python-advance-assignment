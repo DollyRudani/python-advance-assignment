{
 "cells": [
  {
   "cell_type": "markdown",
   "id": "b2b6192f",
   "metadata": {},
   "source": [
    "1. What is the meaning of multiple inheritance?"
   ]
  },
  {
   "cell_type": "markdown",
   "id": "ffcb3264",
   "metadata": {},
   "source": [
    "When a class id derived from more than base class it is called  multiple Inheritance.The derived class inherits all \n",
    "the features of the base case."
   ]
  },
  {
   "cell_type": "markdown",
   "id": "0090082e",
   "metadata": {},
   "source": [
    "2. What is the concept of delegation?"
   ]
  },
  {
   "cell_type": "markdown",
   "id": "b67053b8",
   "metadata": {},
   "source": [
    "Delegation is an object oriented technique (also called a design pattern). Lets say you have an object x and want to \n",
    "change the behaviour of just one of its methods.You can create a new class thst provides a new implementation of the \n",
    "method you're interested in changing and delegates all other methods to the corresponding method of x.\n",
    "\n",
    "The delegation is accomplished via the getattr method: consult the language reference for more information about\n",
    "controlling attribute access."
   ]
  },
  {
   "cell_type": "markdown",
   "id": "07f522f7",
   "metadata": {},
   "source": [
    "3. What is the concept of composition?"
   ]
  },
  {
   "cell_type": "markdown",
   "id": "5a26bd72",
   "metadata": {},
   "source": [
    "It is one the fundamental concepts of oops. A class that reference to one or more objects of other classes as an instance\n",
    "variable . Here ,by using the class name or by creating the object we can access the members of one class inside another\n",
    "class .It enables creating complex types by combining objects of different classes.\n",
    "It means that a class Composite can contain an object  of another class Component.This type of relationship is known\n",
    "as Has_A Relation."
   ]
  },
  {
   "cell_type": "markdown",
   "id": "bb22c288",
   "metadata": {},
   "source": [
    "4. What are bound methods and how do we use them?"
   ]
  },
  {
   "cell_type": "markdown",
   "id": "04910b98",
   "metadata": {},
   "source": [
    "A bound method is the one which is dependent on the instance of the class as the first arguments.It passes the instance \n",
    "as the first argument which is used to access the variables and functions.All functions in the class are by default \n",
    "bound methods."
   ]
  },
  {
   "cell_type": "code",
   "execution_count": 1,
   "id": "efc97578",
   "metadata": {},
   "outputs": [
    {
     "name": "stdout",
     "output_type": "stream",
     "text": [
      "<bound method Sample.fun of <__main__.Sample object at 0x000001D6D1CBB8B0>>\n"
     ]
    }
   ],
   "source": [
    "class Sample:\n",
    "    def fun(self,some_value):\n",
    "        self.some_value=some_value\n",
    "s=Sample()\n",
    "print(s.fun)"
   ]
  },
  {
   "cell_type": "markdown",
   "id": "f483e3fc",
   "metadata": {},
   "source": [
    "5. What is the purpose of pseudoprivate attributes?"
   ]
  },
  {
   "cell_type": "code",
   "execution_count": 3,
   "id": "5b715b7d",
   "metadata": {},
   "outputs": [
    {
     "name": "stdout",
     "output_type": "stream",
     "text": [
      "1\n",
      "2\n",
      "4\n"
     ]
    }
   ],
   "source": [
    "# In Python, there is no concept of \"private\" as such. When naming properties and methods at the level, some special processing is actually done to the name, making it inaccessible to the outside world.\n",
    "\n",
    "class Test:\n",
    "    def __init__(self, a, b, c, d):\n",
    "        self.__a = a # __ means pseudo private variable\n",
    "        self.b = b\n",
    "        self.c = c\n",
    "        self.d = d\n",
    "\n",
    "    def custom(self, v):\n",
    "        return v - self.__a\n",
    "t = Test(1,2,3,4)    \n",
    "print(t._Test__a) # this is the way to access Pseudo private  attribute\n",
    "print(t.b)\n",
    "print(t.custom(5))"
   ]
  },
  {
   "cell_type": "code",
   "execution_count": null,
   "id": "cc3382aa",
   "metadata": {},
   "outputs": [],
   "source": []
  }
 ],
 "metadata": {
  "kernelspec": {
   "display_name": "Python 3 (ipykernel)",
   "language": "python",
   "name": "python3"
  },
  "language_info": {
   "codemirror_mode": {
    "name": "ipython",
    "version": 3
   },
   "file_extension": ".py",
   "mimetype": "text/x-python",
   "name": "python",
   "nbconvert_exporter": "python",
   "pygments_lexer": "ipython3",
   "version": "3.10.9"
  }
 },
 "nbformat": 4,
 "nbformat_minor": 5
}
