{
 "cells": [
  {
   "attachments": {},
   "cell_type": "markdown",
   "metadata": {},
   "source": [
    "Q1. Does assigning a value to a string's indexed character violate Python's string immutability?\n",
    "\n",
    "Yes. It is because of string immutability that means we can change the characters in strings by assigning new values to indexes."
   ]
  },
  {
   "attachments": {},
   "cell_type": "markdown",
   "metadata": {},
   "source": [
    "Q2. Does using the += operator to concatenate strings violate Python's string immutability? Why or why not?\n",
    "\n",
    "No. When we concatenate string, we assign new value to the same string variable. We are not altering string based on the indexes, so it won't violate Python's string immutability\n",
    "\n",
    "No.When we concontrate string, we assign new value to the same string variable.We are not altering string based on the indexes, so it won't violate Python's strings immutability"
   ]
  },
  {
   "attachments": {},
   "cell_type": "markdown",
   "metadata": {},
   "source": [
    "Q3. In Python, how many different ways are there to index a character?\n",
    "\n",
    "There are two methods for this, find() and index() both will return the lowest index at which char is found."
   ]
  },
  {
   "attachments": {},
   "cell_type": "markdown",
   "metadata": {},
   "source": [
    "Q4. What is the relationship between indexing and slicing?\n",
    "\n",
    "Indexing is a way to access an element of a string by its position or index. Slicing is accessing only part of a string and not a full string . String slicing is done by using index."
   ]
  },
  {
   "cell_type": "code",
   "execution_count": 1,
   "metadata": {},
   "outputs": [
    {
     "name": "stdout",
     "output_type": "stream",
     "text": [
      "oll\n",
      "inaduRyl\n"
     ]
    }
   ],
   "source": [
    "s=\"DollyRudani\"\n",
    "print(s[1:4])\n",
    "print(s[-1:2:-1])"
   ]
  },
  {
   "attachments": {},
   "cell_type": "markdown",
   "metadata": {},
   "source": [
    "Q5. What is an indexed character's exact data type? What is the data form of a slicing-generated substring?\n",
    "\n",
    "for both cases,it is \"str\" type."
   ]
  },
  {
   "attachments": {},
   "cell_type": "markdown",
   "metadata": {},
   "source": [
    "Q6. What is the relationship between string and character 'types' in Python?\n",
    "\n",
    "In Python, There is no char data type,even a single character enclosed in double quotes is considered as str."
   ]
  },
  {
   "attachments": {},
   "cell_type": "markdown",
   "metadata": {},
   "source": [
    "Q7. Identify at least two operators and one method that allow you to combine one or more smaller strings to create a larger string.\n",
    "\n",
    "\"+\"will concatenate two strings and\"*\"will repeat the string number of times mentioned.We can also use join()method for getting a larger string."
   ]
  },
  {
   "cell_type": "code",
   "execution_count": 2,
   "metadata": {},
   "outputs": [
    {
     "name": "stdout",
     "output_type": "stream",
     "text": [
      "Hello!How are you?\n",
      "RainRainRainRain\n",
      "Howareyou?\n"
     ]
    }
   ],
   "source": [
    "print(\"Hello!\"+\"How are you?\")\n",
    "print(\"Rain\"*4)\n",
    "I=[\"How\",\"are\",\"you?\"]\n",
    "s=\"\".join(I)\n",
    "print(s)"
   ]
  },
  {
   "attachments": {},
   "cell_type": "markdown",
   "metadata": {},
   "source": [
    "Q8. What is the benefit of first checking the target string with in or not in before using the index method to find a substring?\n",
    "\n",
    "Normally,When we use index() method it will return the staring index of a substring,if substring is present in a string. But the major concern is if a substring is not present in a string,index() will return a Valueerror.To avoid this,we can first check the target string with in or not in before using the index method to find a substring."
   ]
  },
  {
   "attachments": {},
   "cell_type": "markdown",
   "metadata": {},
   "source": [
    "Q9. Which operators and built-in string methods produce simple Boolean (true/false) results?\n",
    "\n",
    "Operators:\n",
    "\n",
    "1. Comparison operators : (== ,!= ,< ,> ,<=, >=) \n",
    "2. Logical Operators : (and, or, not)\n",
    "3. Identity Operators : (is , is not)\n",
    "4. Membership Operators : (in, not in)\n",
    "\n",
    "String methods:\n",
    "\n",
    "1. endswith() : Returns true if the string ends with the specified value \n",
    "2. isalnum()    Returns True if all characters in the string are alphanumeric        \n",
    "3. isalpha()    Returns True if all characters in the string are in the alphabet        \n",
    "4. isdecimal()  Returns True if all characters in the string are decimals       \n",
    "5. isdigit()    Returns True if all characters in the string are digits        \n",
    "6. isidentifier()   Returns True if the string is an identifier        \n",
    "7. islower()    Returns True if all characters in the string are lower case        \n",
    "8. isnumeric()  Returns True if all characters in the string are numeric        \n",
    "9. isprintable()    Returns True if all characters in the string are printable        \n",
    "10. isspace()   Returns True if all characters in the string are whitespaces        \n",
    "11. istitle()   Returns True if the string follows the rules of a title        \n",
    "12. isupper()   Returns True if all characters in the string are upper case"
   ]
  },
  {
   "attachments": {},
   "cell_type": "markdown",
   "metadata": {},
   "source": []
  }
 ],
 "metadata": {
  "kernelspec": {
   "display_name": "Python 3",
   "language": "python",
   "name": "python3"
  },
  "language_info": {
   "codemirror_mode": {
    "name": "ipython",
    "version": 3
   },
   "file_extension": ".py",
   "mimetype": "text/x-python",
   "name": "python",
   "nbconvert_exporter": "python",
   "pygments_lexer": "ipython3",
   "version": "3.11.3"
  },
  "orig_nbformat": 4
 },
 "nbformat": 4,
 "nbformat_minor": 2
}
