{
 "cells": [
  {
   "cell_type": "markdown",
   "id": "4e4657c5",
   "metadata": {},
   "source": [
    "1. What is the relationship between classes and modules?"
   ]
  },
  {
   "cell_type": "markdown",
   "id": "36508d79",
   "metadata": {},
   "source": [
    "Modules are about providing methods that you can use across multiple classes. Modules are about functions. You dont instantitate modules(e.g.Maths module) you just use methods in them.module is like library of methods.Classes are about objects it can hold its state (by keeping track of instance variables) and be duplicated as many times as you want."
   ]
  },
  {
   "cell_type": "markdown",
   "id": "e3f28448",
   "metadata": {},
   "source": [
    "2. How do you make instances and classes?"
   ]
  },
  {
   "cell_type": "markdown",
   "id": "b73007bc",
   "metadata": {},
   "source": [
    "To create instances of a class, you call the class using class name and pass in whatever arguments lts init method accepts.\n",
    "\n",
    "The class statement creates a new class defination.The name of the class immediately follows the keyword class followed by a colon. Explained below:"
   ]
  },
  {
   "cell_type": "code",
   "execution_count": 2,
   "id": "6346a233",
   "metadata": {},
   "outputs": [
    {
     "name": "stdout",
     "output_type": "stream",
     "text": [
      "Thsi is Dolly Rudani(an instance of a class student)\n"
     ]
    }
   ],
   "source": [
    "class student:\n",
    "    def __init__(self,name):\n",
    "        self.name=name\n",
    "    def __str__(self):\n",
    "        return f\"Thsi is {self.name}(an instance of a class student)\"\n",
    "student1=student(\"Dolly Rudani\")\n",
    "print(student1)\n",
    "        "
   ]
  },
  {
   "cell_type": "markdown",
   "id": "e8efea85",
   "metadata": {},
   "source": [
    "3. Where and how should be class attributes created?"
   ]
  },
  {
   "cell_type": "markdown",
   "id": "ca258f9a",
   "metadata": {},
   "source": [
    "Class attributes belong to the class itself they will be shared by all the instances.Such attribues are defined in\n",
    "the class body parts usually at the top,for legibility."
   ]
  },
  {
   "cell_type": "code",
   "execution_count": 3,
   "id": "6c3479fa",
   "metadata": {},
   "outputs": [
    {
     "name": "stdout",
     "output_type": "stream",
     "text": [
      "johnson\n"
     ]
    }
   ],
   "source": [
    "class student:\n",
    "    class_teacher=\"johnson\" #class attribute\n",
    "    \n",
    "    def __init__(self,name, roll_no):  # to bind attributes to class when object is created\n",
    "        self.name=name\n",
    "        self.roll_no=roll_no\n",
    "    def __str__(self):\n",
    "        return f\"This is {self.name}(an instance of a class student)\"\n",
    "student1=student(\"Dolly Rudani\",23)\n",
    "print(student.class_teacher)"
   ]
  },
  {
   "cell_type": "code",
   "execution_count": 4,
   "id": "a4687804",
   "metadata": {},
   "outputs": [
    {
     "name": "stdout",
     "output_type": "stream",
     "text": [
      "Johnson\n"
     ]
    }
   ],
   "source": [
    "class Student:\n",
    "    class_teacher = 'Johnson' # class attribute\n",
    "    \n",
    "    def __init__(self,name, roll_no): # to bind attributes to class when object is created\n",
    "        self.name = name \n",
    "        self.roll_no = roll_no\n",
    "    \n",
    "    def __str__(self):\n",
    "        return f\"This is {self.name} (an instance of a class Student)\"\n",
    "    \n",
    "student1 = Student(\"shreya p\",25)  \n",
    "\n",
    "print(student1.class_teacher) "
   ]
  },
  {
   "cell_type": "markdown",
   "id": "3906b785",
   "metadata": {},
   "source": [
    "4. Where and how are instance attributes created?"
   ]
  },
  {
   "cell_type": "markdown",
   "id": "4880bdc5",
   "metadata": {},
   "source": [
    "Unlike class attributes, instance attributes are not shared by objects.Every object has its own copy of the instance attribute.They are created in init method.How they are created is Explained below:"
   ]
  },
  {
   "cell_type": "code",
   "execution_count": 6,
   "id": "196b0d8e",
   "metadata": {},
   "outputs": [
    {
     "name": "stdout",
     "output_type": "stream",
     "text": [
      "Dolly Rudani\n",
      "22\n"
     ]
    }
   ],
   "source": [
    "class student:\n",
    "    def __init__(self,name,roll_no):\n",
    "        self.name=name\n",
    "        self.roll_no=roll_no\n",
    "    def __str__(self):\n",
    "        return f\"This is {self.name}(an instance of a class student)\"\n",
    "student1=student(\"Dolly Rudani\",22)\n",
    "print(student1.name)\n",
    "print(student1.roll_no)"
   ]
  },
  {
   "cell_type": "markdown",
   "id": "cf5881ac",
   "metadata": {},
   "source": [
    "5.What does the term 'self' in a Python class mean?"
   ]
  },
  {
   "cell_type": "markdown",
   "id": "9c40c2b3",
   "metadata": {},
   "source": [
    "Self represents the instance of the class. By using the “self” keyword we can access the attributes and methods of the class in python. It binds the attributes with the given arguments.The reason you need to use self. is because Python does not use the @ syntax to refer to instance attributes. Python decided to do methods in a way that makes the instance to which the method belongs be passed automatically, but not received automatically: the first parameter of methods is the instance the method is called on."
   ]
  },
  {
   "cell_type": "markdown",
   "id": "502cba46",
   "metadata": {},
   "source": [
    "6. How does a Python class handle operator overloading?"
   ]
  },
  {
   "cell_type": "markdown",
   "id": "7864eb8d",
   "metadata": {},
   "source": [
    "Operator Overloading means giving extended meaning beyond their predefined operational meaning. For example operator +\n",
    "is used to add two integers as well as join two strings and merge two lists.It is achievable because \"+\" opeator is \n",
    "overloaded by int class and str class."
   ]
  },
  {
   "cell_type": "code",
   "execution_count": 7,
   "id": "0f75caab",
   "metadata": {},
   "outputs": [
    {
     "name": "stdout",
     "output_type": "stream",
     "text": [
      "3\n",
      "abcdefg\n",
      "39\n",
      "IneuronIneuronIneuronIneuron\n"
     ]
    }
   ],
   "source": [
    "# + and * operator is used for different purpose\n",
    "print(1+2)\n",
    "\n",
    "#concadenate two strings\n",
    "print(\"abcd\"+\"efg\")\n",
    "\n",
    "#Product two numbers\n",
    "print(13*3)\n",
    "\n",
    "#Repeat the string\n",
    "print(\"Ineuron\"*4)"
   ]
  },
  {
   "cell_type": "markdown",
   "id": "1d3be3d0",
   "metadata": {},
   "source": [
    "7. When do you consider allowing operator overloading of your classes?"
   ]
  },
  {
   "cell_type": "markdown",
   "id": "fd0e62f9",
   "metadata": {},
   "source": [
    "let us assume we have an object called string1 which is a string object as defined below.Now, when try to add a string to this string object, the compiler will throw an error.This is because the compiler doesn't know how to add them."
   ]
  },
  {
   "cell_type": "code",
   "execution_count": 8,
   "id": "7191682c",
   "metadata": {},
   "outputs": [
    {
     "ename": "TypeError",
     "evalue": "unsupported operand type(s) for +: 'string' and 'str'",
     "output_type": "error",
     "traceback": [
      "\u001b[1;31m---------------------------------------------------------------------------\u001b[0m",
      "\u001b[1;31mTypeError\u001b[0m                                 Traceback (most recent call last)",
      "Cell \u001b[1;32mIn[8], line 10\u001b[0m\n\u001b[0;32m      7\u001b[0m string1\u001b[38;5;241m=\u001b[39mstring(\u001b[38;5;124m\"\u001b[39m\u001b[38;5;124mHello\u001b[39m\u001b[38;5;124m\"\u001b[39m)\n\u001b[0;32m      8\u001b[0m \u001b[38;5;66;03m# now concatinating string and string object\u001b[39;00m\n\u001b[0;32m      9\u001b[0m \u001b[38;5;66;03m#print(string1+\"world\")\u001b[39;00m\n\u001b[1;32m---> 10\u001b[0m \u001b[38;5;28mprint\u001b[39m(\u001b[43mstring1\u001b[49m\u001b[38;5;241;43m+\u001b[39;49m\u001b[38;5;124;43m\"\u001b[39;49m\u001b[38;5;124;43mworld\u001b[39;49m\u001b[38;5;124;43m\"\u001b[39;49m)\n",
      "\u001b[1;31mTypeError\u001b[0m: unsupported operand type(s) for +: 'string' and 'str'"
     ]
    }
   ],
   "source": [
    "#our own string class\n",
    "class string:\n",
    "    def __init__(self,string):\n",
    "        self.string=string\n",
    "    def __repr__(self):\n",
    "        return \"Object: {}\".format(self.string)\n",
    "string1=string(\"Hello\")\n",
    "# now concatinating string and string object\n",
    "#print(string1+\"world\")\n",
    "print(string1+\"world\")"
   ]
  },
  {
   "cell_type": "code",
   "execution_count": 9,
   "id": "a19876dd",
   "metadata": {},
   "outputs": [
    {
     "name": "stdout",
     "output_type": "stream",
     "text": [
      "Hello  world\n"
     ]
    }
   ],
   "source": [
    "#declare our own string class \n",
    "class string:\n",
    "    def __init__(self,string):\n",
    "        self.string=string\n",
    "    def __add__(self,other):\n",
    "        return self.string+other\n",
    "    def __repr__(self):\n",
    "        return \"Object: {}\".format(self.string)\n",
    "string1=string(\"Hello\")\n",
    "# concatenate string object and a string\n",
    "print(string1 + \"  world\")"
   ]
  },
  {
   "cell_type": "markdown",
   "id": "420da239",
   "metadata": {},
   "source": [
    "8.What is the most popular form of operator overloading?"
   ]
  },
  {
   "cell_type": "markdown",
   "id": "a281af59",
   "metadata": {},
   "source": [
    "I feel, most popular form of operator overloading is of addition (+) operator. When two integers are passed to + operator, it will return the sum of two integers. When two strings are passed to + operator, it will return concatenation of two strings."
   ]
  },
  {
   "cell_type": "markdown",
   "id": "23075632",
   "metadata": {},
   "source": [
    "9.What are the two most important concepts to grasp in order to comprehend Python OOP code?"
   ]
  },
  {
   "cell_type": "markdown",
   "id": "f294d7a3",
   "metadata": {},
   "source": [
    "1.inheritance\n",
    "\n",
    "2.polymorphism"
   ]
  },
  {
   "cell_type": "code",
   "execution_count": null,
   "id": "15109165",
   "metadata": {},
   "outputs": [],
   "source": []
  }
 ],
 "metadata": {
  "kernelspec": {
   "display_name": "Python 3 (ipykernel)",
   "language": "python",
   "name": "python3"
  },
  "language_info": {
   "codemirror_mode": {
    "name": "ipython",
    "version": 3
   },
   "file_extension": ".py",
   "mimetype": "text/x-python",
   "name": "python",
   "nbconvert_exporter": "python",
   "pygments_lexer": "ipython3",
   "version": "3.10.9"
  }
 },
 "nbformat": 4,
 "nbformat_minor": 5
}
