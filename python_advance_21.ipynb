{
 "cells": [
  {
   "attachments": {},
   "cell_type": "markdown",
   "metadata": {},
   "source": [
    "Q1. What is a probability distribution, exactly? If the values are meant to be random, how can you predict them at all?\n",
    "\n",
    "A probability distribution describes how a random variable is distracted, it tells us values a random variable is most likely to take on and which values are less likely.Based on the previous data and the occurences of the random event, we can pridict the outcome in terms of probabilities.\n",
    "\n",
    "\n",
    "Q2. Is there a distinction between true random numbers and pseudo-random numbers, if there is one? Why are the latter considered “good enough”?\n",
    "\n",
    "The difference between between true random number (TRN) and pseudo-random number(PRN),is that TRN's are unpredictable physical values means (like atmostpheric noise),and PRN are generated using mathematical agorithms (completely computer generated).The PRN's are good enough as they follow a uniform distribution and the seed for generating PRN is unpredictable and unknown.\n",
    "\n",
    "\n",
    "Q3. What are the two main factors that influence the behaviour of a 'normal' probability distribution?\n",
    "\n",
    "A normal distribution is determined by two parameters the mean and the variance.A normal distribution with a mean of 0 and a standard deviation of 1 is called a standard normal distribution.\n",
    "\n",
    "\n",
    "Q4. Provide a real-life example of a normal distribution.\n",
    "\n",
    "A fair rolling of dice is also a good example of normal distribution.\n",
    "\n",
    "\n",
    "Q5. In the short term, how can you expect a probability distribution to behave? What do you think will happen as the number of trials grows?\n",
    "\n",
    "When trials are less, the variance will large.As the number of trials increase,the variable will reduce.\n",
    "\n",
    "\n",
    "Q6. What kind of object can be shuffled by using random.shuffle?\n",
    "\n",
    "random.shuffle can used to shuffle list object\n",
    "\n",
    "\n",
    "Q7. Describe the math package's general categories of functions.\n",
    "\n",
    "The general categories of math package are\n",
    "\n",
    "1)Trigonometric functions 2)Quadratic fuctions 3)Exponential functions 4)Hyperbolic functions 5)Periodic functions 6)Arithmetic functions 7)Logarithimic functions 8)Conversions to Integer\n",
    "\n",
    "\n",
    "Q8. What is the relationship between exponentiation and logarithms?\n",
    "\n",
    "The exponential function is given by f(x)=ex, whereas the logarithmic function is given by g(x) = ln x,and former is the inverse of the latter.\n",
    "\n",
    "\n",
    "Q9. What are the three logarithmic functions that Python supports?\n",
    "\n",
    "1)log2(x) -logarithmic value of x to base 2\n",
    "\n",
    "2)log(x,base) -logarithmic valueof x to base. if only first parameter is given, it computes its value tp base e,natural logarithm\n",
    "\n",
    "3)log10(x)-logarithmic value of x to base 10\n",
    "\n",
    "4)log1p(x) - natural logarithum (base e) value of 1+x"
   ]
  },
  {
   "attachments": {},
   "cell_type": "markdown",
   "metadata": {},
   "source": []
  }
 ],
 "metadata": {
  "language_info": {
   "name": "python"
  },
  "orig_nbformat": 4
 },
 "nbformat": 4,
 "nbformat_minor": 2
}
