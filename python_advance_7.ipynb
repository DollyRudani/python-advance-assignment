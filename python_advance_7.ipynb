{
 "cells": [
  {
   "cell_type": "markdown",
   "id": "fe8db7f2",
   "metadata": {},
   "source": [
    "Q1. What is the purpose of the try statement?"
   ]
  },
  {
   "cell_type": "markdown",
   "id": "15ff233c",
   "metadata": {},
   "source": [
    "Try statement is used to trigger exception.If code in try block cause some run time error, then try will throw an exception.Exception is caught by except block"
   ]
  },
  {
   "cell_type": "markdown",
   "id": "b6116515",
   "metadata": {},
   "source": [
    "Q2. What are the two most popular try statement variations?"
   ]
  },
  {
   "cell_type": "markdown",
   "id": "8377f7ea",
   "metadata": {},
   "source": [
    "IOError -It occurs on errors like a file fails to open. ImportError -If a python module can't be loaded or located. KeyboardInterupt : When an unreqired key is pressed by user ValueError : when build-in function receives a wrong argument EOFError: if End-Of-File is hit without reading any data\n",
    "\n",
    "How try() works?\n",
    "\n",
    "First,try clause is executed i.e the code between try and except clause. If there is no exception,then only try clause will run,except clause is finshed .If any exception occured,try clause will be skipped and except clause will run. If any exception occurs,but the except clause within the code doesn't handle it, it is passed on to the outer try statements. If the exception left unhandled, then the execution stops.A try statement can have more than one expect clause."
   ]
  },
  {
   "cell_type": "markdown",
   "id": "2a3c40a2",
   "metadata": {},
   "source": [
    "Q3. What is the purpose of the raise statement?"
   ]
  },
  {
   "cell_type": "markdown",
   "id": "b0a0155a",
   "metadata": {},
   "source": [
    "raise statement is used to raise an exception, You define what knind of error to raise."
   ]
  },
  {
   "cell_type": "markdown",
   "id": "f9723cba",
   "metadata": {},
   "source": [
    "Q4. What does the assert statement do, and what other statement is it like?"
   ]
  },
  {
   "cell_type": "markdown",
   "id": "d120635c",
   "metadata": {},
   "source": [
    "The assert statement lets you test if a condition in your code returrns True, if not the program will raise an AssertionError. It is like raise statement, Where we can create our custom exceptions."
   ]
  },
  {
   "cell_type": "code",
   "execution_count": 1,
   "id": "b0b419a5",
   "metadata": {},
   "outputs": [
    {
     "ename": "AssertionError",
     "evalue": "number should be grater than 0",
     "output_type": "error",
     "traceback": [
      "\u001b[1;31m---------------------------------------------------------------------------\u001b[0m",
      "\u001b[1;31mAssertionError\u001b[0m                            Traceback (most recent call last)",
      "Cell \u001b[1;32mIn[1], line 2\u001b[0m\n\u001b[0;32m      1\u001b[0m x\u001b[38;5;241m=\u001b[39m\u001b[38;5;241m0\u001b[39m\n\u001b[1;32m----> 2\u001b[0m \u001b[38;5;28;01massert\u001b[39;00m x \u001b[38;5;241m>\u001b[39m \u001b[38;5;241m0\u001b[39m ,\u001b[38;5;124m\"\u001b[39m\u001b[38;5;124mnumber should be grater than 0\u001b[39m\u001b[38;5;124m\"\u001b[39m\n\u001b[0;32m      3\u001b[0m \u001b[38;5;28mprint\u001b[39m(\u001b[38;5;124m\"\u001b[39m\u001b[38;5;124meven\u001b[39m\u001b[38;5;124m\"\u001b[39m)\n",
      "\u001b[1;31mAssertionError\u001b[0m: number should be grater than 0"
     ]
    }
   ],
   "source": [
    "x=0\n",
    "assert x > 0 ,\"number should be grater than 0\"\n",
    "print(\"even\")"
   ]
  },
  {
   "cell_type": "markdown",
   "id": "07a164ab",
   "metadata": {},
   "source": [
    "Q5. What is the purpose of the with/as argument, and what other statement is it like?"
   ]
  },
  {
   "cell_type": "markdown",
   "id": "74f59651",
   "metadata": {},
   "source": [
    "with sttement in python is used in exception handling to make the code cleaner and much readable. It simplifies the management of common resources like file streams.The with statement itself ensure proper acquisition and release of resources.This allows common try...except...finally usage patterns to be encapsulated for convenient reuse.\n",
    "\n",
    "When \"as\" is used after \"with\", it will reassign the returned object to a new identifier.\n",
    "\n",
    " "
   ]
  },
  {
   "cell_type": "code",
   "execution_count": null,
   "id": "c1c55d52",
   "metadata": {},
   "outputs": [],
   "source": []
  }
 ],
 "metadata": {
  "kernelspec": {
   "display_name": "Python 3 (ipykernel)",
   "language": "python",
   "name": "python3"
  },
  "language_info": {
   "codemirror_mode": {
    "name": "ipython",
    "version": 3
   },
   "file_extension": ".py",
   "mimetype": "text/x-python",
   "name": "python",
   "nbconvert_exporter": "python",
   "pygments_lexer": "ipython3",
   "version": "3.10.9"
  }
 },
 "nbformat": 4,
 "nbformat_minor": 5
}
