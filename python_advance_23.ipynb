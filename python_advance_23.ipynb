{
 "cells": [
  {
   "attachments": {},
   "cell_type": "markdown",
   "metadata": {},
   "source": [
    "Q1. If you have any, what are your choices for increasing the comparison between different figures on the same graph?\n",
    "\n",
    "Matplotlib provides a conveniet method called subplots for increase the comparison between different figures on the same graph. Subplots means a group of smaller axes( Where each axis is a plot) that can exist together within a single figure.\n",
    "\n",
    "Q2. Can you explain the benefit of compound interest over a higher rate of interest that does not compound after reading this chapter?\n",
    "\n",
    "Compound intrest makes a sum of money grow at a faster rate than simple intrest, because in addition to earning returns on the money you invest, you also earn returns on those returns at the end of every compounding period, which could be dairly, monthly,quarterly or annually.\n",
    "\n",
    "Q3. What is a histogram, exactly? Name a numpy method for creating such a graph.\n",
    "\n",
    "Histogram shows total values of X wrt Y,Which means at any particular position of X,Y value shows the total number of counts or data below that value of X.numpy.histogram() is the build in function used.\n",
    "\n",
    "Q4. If necessary, how do you change the aspect ratios between the X and Y axes?\n",
    "\n",
    "We can use figure(figsize=(10,8)) function inside the matplot.ptplot library which we scale down or up the graph.\n",
    "\n",
    "Q5. Compare and contrast the three types of array multiplication between two numpy arrays: dot product, outer product, and regular multiplication of two numpy arrays.\n",
    "\n",
    "In regular multiplication value of same index get multiplied.\n",
    "\n",
    "In dot product there is row wise multiplication,row of one array with column of second array and so on. In outer multiplication every element of first array a1 will be multiply be every element of other array a2 such the number of columns will be equal to the number of elements in another array a2.\n",
    "\n",
    "Q6. Before you buy a home, which numpy function will you use to measure your monthly mortgage payment?\n",
    "\n",
    "np.pmt(rate,nper,pv) function we will be using in order to caluculate monthly mortgage payments before you purchase a house.\n",
    "\n",
    "rate=The periodic intrest rate\n",
    "\n",
    "nper=the number of payment periods\n",
    "\n",
    "pv=The total value of the mortgage loan\n",
    "\n",
    "Q7. Can string data be stored in numpy arrays? If so, list at least one restriction that applies to this data.\n",
    "\n",
    "Yes , an array can store the string.The limitation which imposed on the string data is, Whenever we store the data of string dtype then it should should keep in mind that the string which is having the maximum length is the limit."
   ]
  },
  {
   "attachments": {},
   "cell_type": "markdown",
   "metadata": {},
   "source": []
  }
 ],
 "metadata": {
  "language_info": {
   "name": "python"
  },
  "orig_nbformat": 4
 },
 "nbformat": 4,
 "nbformat_minor": 2
}
