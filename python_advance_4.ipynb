{
 "cells": [
  {
   "cell_type": "markdown",
   "id": "c5ecc8bb",
   "metadata": {},
   "source": [
    "1. Which two operator overloading methods can you use in your classes to support iteration?"
   ]
  },
  {
   "cell_type": "markdown",
   "id": "e32a6c0c",
   "metadata": {},
   "source": [
    "add() and nul() methods can be used for both integers and strings data objects. Strings is iterable objects. When two strings are passed to + operator, it will return concatenated strings. When *(number) is preceede by strings, then that string is replaced those many number of time."
   ]
  },
  {
   "cell_type": "code",
   "execution_count": 2,
   "id": "ef0ce2fc",
   "metadata": {},
   "outputs": [
    {
     "name": "stdout",
     "output_type": "stream",
     "text": [
      "dollyrudani\n",
      "pqrpqrpqrpqrpqr\n"
     ]
    }
   ],
   "source": [
    "print(\"dolly\"+\"rudani\")\n",
    "print(\"pqr\"*5)"
   ]
  },
  {
   "cell_type": "markdown",
   "id": "e70ff192",
   "metadata": {},
   "source": [
    "2. In what contexts do the two operator overloading methods manage printing?"
   ]
  },
  {
   "cell_type": "markdown",
   "id": "87b24ae9",
   "metadata": {},
   "source": [
    "It depends on the input parameter result is printed.Example, if both inputs are strings functions will print string output"
   ]
  },
  {
   "cell_type": "markdown",
   "id": "b8e8b114",
   "metadata": {},
   "source": [
    "3. In a class, how do you intercept slice operations?"
   ]
  },
  {
   "cell_type": "code",
   "execution_count": 4,
   "id": "6538c4ec",
   "metadata": {},
   "outputs": [
    {
     "name": "stdout",
     "output_type": "stream",
     "text": [
      "saving\n",
      "         30 function calls in 0.000 seconds\n",
      "\n",
      "   Ordered by: standard name\n",
      "\n",
      "   ncalls  tottime  percall  cumtime  percall filename:lineno(function)\n",
      "        1    0.000    0.000    0.000    0.000 1564660406.py:5(__setitem__)\n",
      "        2    0.000    0.000    0.000    0.000 :0(__exit__)\n",
      "        1    0.000    0.000    0.000    0.000 :0(acquire)\n",
      "        1    0.000    0.000    0.000    0.000 :0(append)\n",
      "        1    0.000    0.000    0.000    0.000 :0(exec)\n",
      "        2    0.000    0.000    0.000    0.000 :0(getpid)\n",
      "        2    0.000    0.000    0.000    0.000 :0(isinstance)\n",
      "        2    0.000    0.000    0.000    0.000 :0(len)\n",
      "        1    0.000    0.000    0.000    0.000 :0(print)\n",
      "        1    0.000    0.000    0.000    0.000 :0(setprofile)\n",
      "        2    0.000    0.000    0.000    0.000 :0(write)\n",
      "        1    0.000    0.000    0.000    0.000 <string>:1(<module>)\n",
      "        1    0.000    0.000    0.000    0.000 iostream.py:202(schedule)\n",
      "        2    0.000    0.000    0.000    0.000 iostream.py:437(_is_master_process)\n",
      "        2    0.000    0.000    0.000    0.000 iostream.py:456(_schedule_flush)\n",
      "        2    0.000    0.000    0.000    0.000 iostream.py:526(write)\n",
      "        1    0.000    0.000    0.000    0.000 iostream.py:90(_event_pipe)\n",
      "        1    0.000    0.000    0.000    0.000 profile:0(l2[3:] = [5])\n",
      "        0    0.000             0.000          profile:0(profiler)\n",
      "        1    0.000    0.000    0.000    0.000 socket.py:543(send)\n",
      "        1    0.000    0.000    0.000    0.000 threading.py:1102(_wait_for_tstate_lock)\n",
      "        1    0.000    0.000    0.000    0.000 threading.py:1169(is_alive)\n",
      "        1    0.000    0.000    0.000    0.000 threading.py:553(is_set)\n",
      "\n",
      "\n",
      "saving\n",
      "         22 function calls in 0.000 seconds\n",
      "\n",
      "   Ordered by: standard name\n",
      "\n",
      "   ncalls  tottime  percall  cumtime  percall filename:lineno(function)\n",
      "        1    0.000    0.000    0.000    0.000 1564660406.py:5(__setitem__)\n",
      "        2    0.000    0.000    0.000    0.000 :0(__exit__)\n",
      "        1    0.000    0.000    0.000    0.000 :0(exec)\n",
      "        2    0.000    0.000    0.000    0.000 :0(getpid)\n",
      "        2    0.000    0.000    0.000    0.000 :0(isinstance)\n",
      "        2    0.000    0.000    0.000    0.000 :0(len)\n",
      "        1    0.000    0.000    0.000    0.000 :0(print)\n",
      "        1    0.000    0.000    0.000    0.000 :0(setprofile)\n",
      "        2    0.000    0.000    0.000    0.000 :0(write)\n",
      "        1    0.000    0.000    0.000    0.000 <string>:1(<module>)\n",
      "        2    0.000    0.000    0.000    0.000 iostream.py:437(_is_master_process)\n",
      "        2    0.000    0.000    0.000    0.000 iostream.py:456(_schedule_flush)\n",
      "        2    0.000    0.000    0.000    0.000 iostream.py:526(write)\n",
      "        1    0.000    0.000    0.000    0.000 profile:0(l2[2:6] = [12,4])\n",
      "        0    0.000             0.000          profile:0(profiler)\n",
      "\n",
      "\n",
      "saving\n",
      "         22 function calls in 0.000 seconds\n",
      "\n",
      "   Ordered by: standard name\n",
      "\n",
      "   ncalls  tottime  percall  cumtime  percall filename:lineno(function)\n",
      "        1    0.000    0.000    0.000    0.000 1564660406.py:5(__setitem__)\n",
      "        2    0.000    0.000    0.000    0.000 :0(__exit__)\n",
      "        1    0.000    0.000    0.000    0.000 :0(exec)\n",
      "        2    0.000    0.000    0.000    0.000 :0(getpid)\n",
      "        2    0.000    0.000    0.000    0.000 :0(isinstance)\n",
      "        2    0.000    0.000    0.000    0.000 :0(len)\n",
      "        1    0.000    0.000    0.000    0.000 :0(print)\n",
      "        1    0.000    0.000    0.000    0.000 :0(setprofile)\n",
      "        2    0.000    0.000    0.000    0.000 :0(write)\n",
      "        1    0.000    0.000    0.000    0.000 <string>:1(<module>)\n",
      "        2    0.000    0.000    0.000    0.000 iostream.py:437(_is_master_process)\n",
      "        2    0.000    0.000    0.000    0.000 iostream.py:456(_schedule_flush)\n",
      "        2    0.000    0.000    0.000    0.000 iostream.py:526(write)\n",
      "        1    0.000    0.000    0.000    0.000 profile:0(l2[-1:] = [42])\n",
      "        0    0.000             0.000          profile:0(profiler)\n",
      "\n",
      "\n",
      "saving\n",
      "         22 function calls in 0.000 seconds\n",
      "\n",
      "   Ordered by: standard name\n",
      "\n",
      "   ncalls  tottime  percall  cumtime  percall filename:lineno(function)\n",
      "        1    0.000    0.000    0.000    0.000 1564660406.py:5(__setitem__)\n",
      "        2    0.000    0.000    0.000    0.000 :0(__exit__)\n",
      "        1    0.000    0.000    0.000    0.000 :0(exec)\n",
      "        2    0.000    0.000    0.000    0.000 :0(getpid)\n",
      "        2    0.000    0.000    0.000    0.000 :0(isinstance)\n",
      "        2    0.000    0.000    0.000    0.000 :0(len)\n",
      "        1    0.000    0.000    0.000    0.000 :0(print)\n",
      "        1    0.000    0.000    0.000    0.000 :0(setprofile)\n",
      "        2    0.000    0.000    0.000    0.000 :0(write)\n",
      "        1    0.000    0.000    0.000    0.000 <string>:1(<module>)\n",
      "        2    0.000    0.000    0.000    0.000 iostream.py:437(_is_master_process)\n",
      "        2    0.000    0.000    0.000    0.000 iostream.py:456(_schedule_flush)\n",
      "        2    0.000    0.000    0.000    0.000 iostream.py:526(write)\n",
      "        1    0.000    0.000    0.000    0.000 profile:0(l2[::2] = [6,6])\n",
      "        0    0.000             0.000          profile:0(profiler)\n",
      "\n",
      "\n"
     ]
    }
   ],
   "source": [
    "import profile\n",
    "import sys\n",
    "\n",
    "class InterceptedList2(list):\n",
    "    def __setitem__(self,key,value):\n",
    "        print(\"saving\")\n",
    "        list.__setitem__(self,key,value)\n",
    "    def __delitem__(self,key):\n",
    "        print(\"saving\")\n",
    "        list.__delitem__(self,key)\n",
    "l2=InterceptedList2()\n",
    "l2.extend([1,2,3,4])\n",
    "profile.run(\"l2[3:] = [5]\")\n",
    "profile.run(\"l2[2:6] = [12,4]\")\n",
    "profile.run(\"l2[-1:] = [42]\")\n",
    "profile.run(\"l2[::2] = [6,6]\")"
   ]
  },
  {
   "cell_type": "markdown",
   "id": "07fd6137",
   "metadata": {},
   "source": [
    "4. In a class, how do you capture in-place addition?"
   ]
  },
  {
   "cell_type": "markdown",
   "id": "9e4c9215",
   "metadata": {},
   "source": [
    "Python in its definition provided methods to perform inplace operations, i,e doing assignment and computatiion in a single statement using \"operator\" module.For example, x +=y is equivalent to x=operator.iadd(x,y)\n",
    "\n",
    "iadd() function is used to assign and add the current value.This operation does \"a+=b\" operation.Assigning is not performed in case of immutable containers, such as strings, numbers and tuples."
   ]
  },
  {
   "cell_type": "code",
   "execution_count": 5,
   "id": "d92420a6",
   "metadata": {},
   "outputs": [
    {
     "name": "stdout",
     "output_type": "stream",
     "text": [
      "5\n"
     ]
    }
   ],
   "source": [
    "import operator\n",
    "x=2\n",
    "y=3\n",
    "x=operator.iadd(x,y)\n",
    "print(x)"
   ]
  },
  {
   "cell_type": "markdown",
   "id": "d8894a58",
   "metadata": {},
   "source": [
    "5.When is it appropriate to use operator overloading?"
   ]
  },
  {
   "cell_type": "markdown",
   "id": "fbbdcd83",
   "metadata": {},
   "source": [
    "When we have two objects which are a physical representation of a class (user-defined data type) and we have to add two objects with binary \"+\" operator it throws an error, because compiler don't know how to add two objects .So we define a method for an operator and that process is called operator overloading."
   ]
  },
  {
   "cell_type": "code",
   "execution_count": null,
   "id": "5fb91060",
   "metadata": {},
   "outputs": [],
   "source": []
  }
 ],
 "metadata": {
  "kernelspec": {
   "display_name": "Python 3 (ipykernel)",
   "language": "python",
   "name": "python3"
  },
  "language_info": {
   "codemirror_mode": {
    "name": "ipython",
    "version": 3
   },
   "file_extension": ".py",
   "mimetype": "text/x-python",
   "name": "python",
   "nbconvert_exporter": "python",
   "pygments_lexer": "ipython3",
   "version": "3.10.9"
  }
 },
 "nbformat": 4,
 "nbformat_minor": 5
}
