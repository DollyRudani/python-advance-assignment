{
 "cells": [
  {
   "attachments": {},
   "cell_type": "markdown",
   "metadata": {},
   "source": [
    "Q1. What is the distinction between a numpy array and a pandas data frame? Is there a way to convert between the two if there is?\n",
    "\n",
    "Numpy Ndarray perovides a lot of coveninent and optimized method for performing several mathematical operations on vectors.\n",
    "\n",
    "Pandas Dataframe is an in-memory 2-dimentional tabular representation of data.In simpler words,it can be seen as a spreadsheet having rows and columns.\n",
    "\n",
    "conversion :Datadrame=pandas.DataFrame(array)\n",
    "\n",
    "Q2. What can go wrong when an user enters in a stock-ticker symbol, and how do you handle it?\n",
    "\n",
    "Bar chart,Line Chart are used for plotting.\n",
    "\n",
    "Q3. Identify some of the plotting techniques that are used to produce a stock-market chart.\n",
    "\n",
    "Legend will help comparision between different stocks,so will be essential on a stock market chart\n",
    "\n",
    "Q4. Why is it essential to print a legend on a stock market chart?\n",
    "\n",
    "We can start and end parameters for that.In start we write the date from where we are starting and at the end we write the end date.So within this span we can restrict the duration.Also we can use the parameters like periods for how much times we need the duration and we can also use the frequrncy parameter.\n",
    "\n",
    "Q5. What is the best way to limit the length of a pandas data frame to less than a year?\n",
    "\n",
    "The 180-day moving average is represented as a line on charts and represents the average price over the past 180 days.The moving average can give traders a sence regarding wheather the trend is up or down, while also identifing potential support or resistance areas.\n",
    "\n",
    "Q6. What is the definition of a 180-day moving average?"
   ]
  },
  {
   "attachments": {},
   "cell_type": "markdown",
   "metadata": {},
   "source": [
    "Moving Averages help to filter out market noise and smooth out fluctuations in price. In statistics, a moving\n",
    "average is a calculation used to analyze data points by creating a series of averages of different subsets of \n",
    "the full data set. 180-day moving average means A simple moving average (SMA) is a arithmetic mean of a given \n",
    "set of prices over the 180 days in the past"
   ]
  },
  {
   "attachments": {},
   "cell_type": "markdown",
   "metadata": {},
   "source": [
    "Q7. Did the chapter's final example use 'indirect' importing? If so, how exactly do you do it?"
   ]
  },
  {
   "attachments": {},
   "cell_type": "markdown",
   "metadata": {},
   "source": [
    "No, the chapter's final example did not use \"indirect\" importing. The concept of \"indirect\" importing is not specific to Python and may not have been mentioned in the context of the previous discussion.\n",
    "\n",
    "In Python, the standard way to import modules is through direct importing, where you use the import statement to import a module directly into your script. For example:"
   ]
  },
  {
   "cell_type": "code",
   "execution_count": null,
   "metadata": {},
   "outputs": [],
   "source": [
    "import module_name\n"
   ]
  },
  {
   "attachments": {},
   "cell_type": "markdown",
   "metadata": {},
   "source": [
    "This imports the module named module_name, and you can access its attributes and functions using the module_name.attribute or module_name.function() syntax.\n",
    "\n",
    "On the other hand, \"indirect\" importing is not a standard term or practice in Python. It might refer to a situation where a module is imported indirectly through other modules. In Python, when you import a module, any dependencies that module has will also be imported.\n",
    "\n",
    "For example, consider a scenario where you have three modules: module_a.py, module_b.py, and module_c.py. If module_a.py imports module_b.py, and module_b.py imports module_c.py, then module_c.py is indirectly imported through module_b.py.\n",
    "\n",
    "Here's an example:\n",
    "\n",
    "module_a.py:"
   ]
  },
  {
   "attachments": {},
   "cell_type": "markdown",
   "metadata": {},
   "source": [
    "import module_b\n",
    "\n",
    "module_b.some_function()\n"
   ]
  },
  {
   "attachments": {},
   "cell_type": "markdown",
   "metadata": {},
   "source": []
  }
 ],
 "metadata": {
  "kernelspec": {
   "display_name": "Python 3",
   "language": "python",
   "name": "python3"
  },
  "language_info": {
   "codemirror_mode": {
    "name": "ipython",
    "version": 3
   },
   "file_extension": ".py",
   "mimetype": "text/x-python",
   "name": "python",
   "nbconvert_exporter": "python",
   "pygments_lexer": "ipython3",
   "version": "3.11.3"
  },
  "orig_nbformat": 4
 },
 "nbformat": 4,
 "nbformat_minor": 2
}
