{
 "cells": [
  {
   "attachments": {},
   "cell_type": "markdown",
   "metadata": {},
   "source": [
    "Q1. What is the benefit of regular expressions?\n",
    "\n",
    "Regular expression let us search the piece of text that matches the given pattern.The main benifit of using them is , it saves lot of time and are very efficent to use.\""
   ]
  },
  {
   "attachments": {},
   "cell_type": "markdown",
   "metadata": {},
   "source": [
    "Q2. Describe the difference between the effects of '(ab)c+' and 'a(bc)+.'; Which of these, if any, is the unqualified pattern 'abc+'?\n",
    "\n",
    "Pattern (ab)c+ will search for at only one occurence of \"ab\" and one or more occurences of c.\n",
    "\n",
    "Pattern b(bc)+ will search for at only one occurence of \"a\" and one or more occurences of bc.\n",
    "\n",
    "Pattern (ab)c+ can be unqualified pattern \"abc+\""
   ]
  },
  {
   "cell_type": "code",
   "execution_count": 1,
   "metadata": {},
   "outputs": [
    {
     "name": "stdout",
     "output_type": "stream",
     "text": [
      "abccccc\n",
      "abcbc\n"
     ]
    }
   ],
   "source": [
    "import re\n",
    "match1=re.search(r'(ab)c+',\"abccccc\")\n",
    "match2=re.search(r'a(bc)+',\"abcbc\")\n",
    "print(match1.group())\n",
    "print(match2.group())"
   ]
  },
  {
   "attachments": {},
   "cell_type": "markdown",
   "metadata": {},
   "source": [
    "Q3. How much do you need to use the following sentence while using regular expressions?"
   ]
  },
  {
   "cell_type": "code",
   "execution_count": 2,
   "metadata": {},
   "outputs": [],
   "source": [
    "\n",
    "import re\n",
    "# We have to use it everytime we use functions of the module re. "
   ]
  },
  {
   "attachments": {},
   "cell_type": "markdown",
   "metadata": {},
   "source": [
    "Q4. Which characters have special significance in square brackets when expressing a range, and under what circumstances?\n",
    "\n",
    "\\ (backslash): general escape character, is usd when you use character class metacharacters as literals inside a character class only.\n",
    "\n",
    "^(circumflex anchor): negate the class, if this is the first character in the brackets(If ^ is not the first , it is not a metacharacter.)"
   ]
  },
  {
   "attachments": {},
   "cell_type": "markdown",
   "metadata": {},
   "source": [
    "Q5. How does compiling a regular-expression object benefit you?\n",
    "\n",
    "It is faster compared to using pattern ad other re functions."
   ]
  },
  {
   "attachments": {},
   "cell_type": "markdown",
   "metadata": {},
   "source": [
    "Q6. What are some examples of how to use the match object returned by re.match and re.search?\n",
    "\n",
    "re.search() searches for the whole string even if the string contains multi lines and tries to find a match of the substring in all the line of string\n",
    "\n",
    "re.match() searches only from the beginning of the string and return match object if found.But if a match of substring is found somewhere in the middle of the string, it returns none.\n",
    "\n",
    "But, both search() and match() returns only the first occurance of pattern."
   ]
  },
  {
   "cell_type": "code",
   "execution_count": 3,
   "metadata": {},
   "outputs": [
    {
     "name": "stdout",
     "output_type": "stream",
     "text": [
      "<re.Match object; span=(0, 7), match='Ineuron'>\n",
      "None\n"
     ]
    }
   ],
   "source": [
    "import re\n",
    "pattern =\"ineuron\"\n",
    "search=re.search(pattern,\"Ineuron is the best coaching ineuron!\",re.IGNORECASE)\n",
    "print(search)\n",
    "match=re.match(pattern,\"The best coaching class is Ineuron\",re.IGNORECASE)\n",
    "print(match)"
   ]
  },
  {
   "attachments": {},
   "cell_type": "markdown",
   "metadata": {},
   "source": [
    "Q7. What is the difference between using a vertical bar (|) as an alteration and using square brackets as a character set?"
   ]
  },
  {
   "cell_type": "code",
   "execution_count": 5,
   "metadata": {},
   "outputs": [
    {
     "name": "stdout",
     "output_type": "stream",
     "text": [
      "['She']\n",
      "['she is great human!']\n"
     ]
    }
   ],
   "source": [
    "# | : is regex or. It will check either of any string is present in search string.\n",
    "\n",
    "# [] : This will search for any character is present in string\n",
    "\n",
    "import re\n",
    "\n",
    "print(re.findall(\"She|he\", \"She is a great human!\"))\n",
    "\n",
    "print(re.findall(r'[^\\d]+',\"she is great human!\"))"
   ]
  },
  {
   "attachments": {},
   "cell_type": "markdown",
   "metadata": {},
   "source": [
    "| : is regex or. It will check either of any strings is present in search string.\n",
    "\n",
    "[]:This will search for any character is present in string"
   ]
  },
  {
   "attachments": {},
   "cell_type": "markdown",
   "metadata": {},
   "source": [
    "Q8. In regular-expression search patterns, why is it necessary to use the raw-string indicator (r)? In   replacement strings?\n",
    "\n",
    "r inicates raw strings means that the characters ahead are individual characters not escape characters.It changes how the string literal is interpreted.Such literals are stored as they appear."
   ]
  },
  {
   "attachments": {},
   "cell_type": "markdown",
   "metadata": {},
   "source": []
  }
 ],
 "metadata": {
  "kernelspec": {
   "display_name": "Python 3",
   "language": "python",
   "name": "python3"
  },
  "language_info": {
   "codemirror_mode": {
    "name": "ipython",
    "version": 3
   },
   "file_extension": ".py",
   "mimetype": "text/x-python",
   "name": "python",
   "nbconvert_exporter": "python",
   "pygments_lexer": "ipython3",
   "version": "3.11.3"
  },
  "orig_nbformat": 4
 },
 "nbformat": 4,
 "nbformat_minor": 2
}
