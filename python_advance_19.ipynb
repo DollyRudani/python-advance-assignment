{
 "cells": [
  {
   "attachments": {},
   "cell_type": "markdown",
   "metadata": {},
   "source": [
    "Q1. Define the relationship between a class and its instances. Is it a one-to-one or a one-to-many partnership, for example?\n",
    "\n",
    "Class is abstraction of an real world entity .It consists of attributes and methods.Instance is an object of a class .It one to many relationship between class and its instances."
   ]
  },
  {
   "attachments": {},
   "cell_type": "markdown",
   "metadata": {},
   "source": [
    "Q2. What kind of data is held only in an instance?\n",
    "\n",
    "Instance objects contains the Instance variables which are specific to that specify Instance object."
   ]
  },
  {
   "attachments": {},
   "cell_type": "markdown",
   "metadata": {},
   "source": [
    "Q3. What kind of knowledge is stored in a class?\n",
    "\n",
    "Class creates a user-defined data structure,Which holdes its own data members and member functions,which can be accessed and used by creating an instance of that class.A class is like a blueprint for an object."
   ]
  },
  {
   "attachments": {},
   "cell_type": "markdown",
   "metadata": {},
   "source": [
    "Q4. What exactly is a method, and how is it different from a regular function?\n",
    "\n",
    "The methods with a class can be used to access the instance variable of its instance.So, the object's state can be modified bynits method.Function can't access the attributes of an instance of a class or modify the state of the object."
   ]
  },
  {
   "attachments": {},
   "cell_type": "markdown",
   "metadata": {},
   "source": [
    "Q5. Is inheritance supported in Python, and if so, what is the syntax?"
   ]
  },
  {
   "cell_type": "code",
   "execution_count": 1,
   "metadata": {},
   "outputs": [
    {
     "name": "stdout",
     "output_type": "stream",
     "text": [
      "Class of Instance <class '__main__.B'>\n",
      "Base class:  (<class '__main__.A'>,)\n"
     ]
    }
   ],
   "source": [
    "#Inheritance is supported by python\n",
    "#          Example of inheritance :\n",
    "class A:\n",
    "    var=1\n",
    "    def __init__(self):\n",
    "        pass\n",
    "class B(A): #class B is detived from class A\n",
    "    def __init__(self):\n",
    "        super().__init__()\n",
    "c=B()\n",
    "print(\"Class of Instance\",c.__class__)\n",
    "print(\"Base class: \",c.__class__.__bases__)\n"
   ]
  },
  {
   "attachments": {},
   "cell_type": "markdown",
   "metadata": {},
   "source": [
    "Q6. How much encapsulation (making instance or class variables private) does Python support?\n",
    "\n",
    "Encapasulation prevents from accessing accidentally,but not intentionally.The private attributes and methods are not really hidden.The private attributes can be accessed within the object method."
   ]
  },
  {
   "attachments": {},
   "cell_type": "markdown",
   "metadata": {},
   "source": [
    "Q7. How do you distinguish between a class variable and an instance variable?\n",
    "\n",
    "The class attribute is available to all the instance objects of the class. Instance variable is accessible only to the object or Instance of that class."
   ]
  },
  {
   "attachments": {},
   "cell_type": "markdown",
   "metadata": {},
   "source": [
    "Q8. When, if ever, can self be included in a class's method definitions?\n",
    "\n",
    "self can included to access the class variables and instance variables."
   ]
  },
  {
   "attachments": {},
   "cell_type": "markdown",
   "metadata": {},
   "source": [
    "Q9. What is the difference between the _ add _ and the _ radd _ methods?\n",
    "\n",
    "When you add two numbers using the + operator ,internally,the add() method will be called.We can overload This method to perform"
   ]
  },
  {
   "attachments": {},
   "cell_type": "markdown",
   "metadata": {},
   "source": [
    "Q10. When is it necessary to use a reflection method? When do you not need it, even though you support the operation in question?\n",
    "\n",
    "Suppose we are implementing a class that you want to act like a number via operator overloading.So we implement add in your class, and now expressions like obj + 10 is acceptable.This is because obj+10 is interpreted as obj.add(10), and the custom method add can do whatever it means to add 10 to custom class. However,What about an expression like 10 +obj which is really (10).add(myobj)? The 10 is an instance of a python build=in type and its add__method doesn't know anything about the new type,obj so it will return a error NotImplemented. To handle such scenarios,__radd__is used.Python will first try (10).__add(myobj), and if that returns NotImplemented,Python will check if the right hand operand implements radd,and if it does ,it will call obj.__radd(10) rather than raising a TypeError."
   ]
  },
  {
   "attachments": {},
   "cell_type": "markdown",
   "metadata": {},
   "source": [
    "Q11. What is the _ iadd _ method called?"
   ]
  },
  {
   "cell_type": "code",
   "execution_count": 2,
   "metadata": {},
   "outputs": [
    {
     "name": "stdout",
     "output_type": "stream",
     "text": [
      "2\n"
     ]
    }
   ],
   "source": [
    "#__iadd__method is called when we use implementation like a+=b which is a.__iadd__(b)\n",
    "class A:\n",
    "    def __init__(self,x):\n",
    "        self.x=x\n",
    "    def __iadd__(self,other):\n",
    "        return self.x\n",
    "obj1=A(2)\n",
    "obj2=A(3)\n",
    "obj1+=obj2\n",
    "print(obj1)"
   ]
  },
  {
   "attachments": {},
   "cell_type": "markdown",
   "metadata": {},
   "source": [
    "Q12. Is the _ init _ method inherited by subclasses? What do you do if you need to customize its behavior within a subclass?"
   ]
  },
  {
   "cell_type": "code",
   "execution_count": 3,
   "metadata": {},
   "outputs": [
    {
     "data": {
      "text/plain": [
       "7"
      ]
     },
     "execution_count": 3,
     "metadata": {},
     "output_type": "execute_result"
    }
   ],
   "source": [
    "#__init__method is inherited by its subclass.But it can beoverloaded,to customize it\n",
    "class A:\n",
    "    def __init__(self,x):\n",
    "        self.x=x\n",
    "class B(A):\n",
    "    pass\n",
    "obj=B(2)\n",
    "obj.x\n",
    "#   here the value x is accessible to instance of class b which issubclass \n",
    "#   __init__of class A is inherited in sub class B\n",
    "class C(A):\n",
    "    def __init__(self,x,y):#Here we can overloading the__init__ inherited from class A\n",
    "        self.x=x\n",
    "        self.y=y\n",
    "    def func(self):\n",
    "        return (self.x+self.y)\n",
    "obj1=C(3,4)\n",
    "obj1.func()"
   ]
  },
  {
   "attachments": {},
   "cell_type": "markdown",
   "metadata": {},
   "source": []
  }
 ],
 "metadata": {
  "kernelspec": {
   "display_name": "Python 3",
   "language": "python",
   "name": "python3"
  },
  "language_info": {
   "codemirror_mode": {
    "name": "ipython",
    "version": 3
   },
   "file_extension": ".py",
   "mimetype": "text/x-python",
   "name": "python",
   "nbconvert_exporter": "python",
   "pygments_lexer": "ipython3",
   "version": "3.11.3"
  },
  "orig_nbformat": 4
 },
 "nbformat": 4,
 "nbformat_minor": 2
}
