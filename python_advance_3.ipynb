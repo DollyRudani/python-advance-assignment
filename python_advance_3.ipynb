{
 "cells": [
  {
   "cell_type": "markdown",
   "id": "739874d5",
   "metadata": {},
   "source": [
    "1.What is the concept of an abstract superclass?"
   ]
  },
  {
   "cell_type": "markdown",
   "id": "7e67734c",
   "metadata": {},
   "source": [
    "A class is called an Abstract class if it contains one or more abstract methods.An abstract method is a nethod that \n",
    "is declared, but contains no implementation.Abstract classes may not be instantiated, and abstract methods must be \n",
    "implemented by its subclasses."
   ]
  },
  {
   "cell_type": "code",
   "execution_count": 1,
   "id": "9fad2ec8",
   "metadata": {},
   "outputs": [
    {
     "name": "stdout",
     "output_type": "stream",
     "text": [
      "area: 200\n"
     ]
    }
   ],
   "source": [
    "import abc\n",
    "class Shape(metaclass=abc.ABCMeta):\n",
    "    @abc.abstractmethod\n",
    "    def area(self):\n",
    "        pass\n",
    "class Rectangle(Shape):\n",
    "    def __init__(self,x,y):\n",
    "        self.l=x\n",
    "        self.b=y\n",
    "    def area(self):\n",
    "        return self.l*self.b\n",
    "\n",
    "r=Rectangle(10,20)\n",
    "print(\"area:\",r.area())"
   ]
  },
  {
   "cell_type": "markdown",
   "id": "c8e65adb",
   "metadata": {},
   "source": [
    "The \"abc\" module in python library provides the infrastructure for defining custom abstract base classes. \"abc\" works by marking methods of the base class as abstract.This is done by @abstractmethod decorator. A concrete class which is a sub class of such abstract base class then implememts the abstract base by overriding its abstract methods.\n",
    "\n",
    "The abc module defines ABCMeta class which is a meta class for defining abstract base class. Following example defines Shape class as an abstract base class using ABCMeta. The shape class has area() method decorated by abstractmethod.\n",
    "\n",
    "A Rectangle class now uses above Shape class as its parent and implementing the abstract area() method. since it is a concrete class, it can be instantiated and implemented area() method can be called."
   ]
  },
  {
   "cell_type": "markdown",
   "id": "3bc8ec3f",
   "metadata": {},
   "source": [
    "2. What happens when a class statement's top level contains a basic assignment statement?"
   ]
  },
  {
   "cell_type": "markdown",
   "id": "bb95d98c",
   "metadata": {},
   "source": [
    "When class statement's top level contains a basic assignment statement,it is considered as class attribute.Change in\n",
    "the value of class attribute will affect all the instances of the class."
   ]
  },
  {
   "cell_type": "code",
   "execution_count": 2,
   "id": "2ac4fbfc",
   "metadata": {},
   "outputs": [
    {
     "name": "stdout",
     "output_type": "stream",
     "text": [
      "1234\n",
      "2\n",
      "3\n",
      "567\n",
      "567\n"
     ]
    }
   ],
   "source": [
    "class Sample:\n",
    "    some_value=1234\n",
    "    \n",
    "    def __init__(self,value1):\n",
    "        self.value1=value1\n",
    "s=Sample(2)\n",
    "s1=Sample(3)\n",
    "print(s.some_value)\n",
    "print(s.value1)\n",
    "print(s1.value1)\n",
    "Sample.some_value=567\n",
    "print(s.some_value)\n",
    "print(s1.some_value)"
   ]
  },
  {
   "cell_type": "markdown",
   "id": "613006f0",
   "metadata": {},
   "source": [
    "3.Why does a class need to manually call a superclass's init method?"
   ]
  },
  {
   "cell_type": "markdown",
   "id": "9cf7bd15",
   "metadata": {},
   "source": [
    "By doing so, We can access those methods of the super-class(parent class) which have been overridden in a sub-class (child class) that inherits from it"
   ]
  },
  {
   "cell_type": "markdown",
   "id": "63a0aa9a",
   "metadata": {},
   "source": [
    "4. How can you augment, instead of completely replacing, an inherited method?"
   ]
  },
  {
   "cell_type": "markdown",
   "id": "a28f8bb5",
   "metadata": {},
   "source": [
    "The way to do that in python is by calling to the original version directly, with argumented arguments."
   ]
  },
  {
   "cell_type": "markdown",
   "id": "f51e9a80",
   "metadata": {},
   "source": [
    "5. How is the local scope of a class different from that of a function?"
   ]
  },
  {
   "cell_type": "markdown",
   "id": "113e82a4",
   "metadata": {},
   "source": []
  }
 ],
 "metadata": {
  "kernelspec": {
   "display_name": "Python 3 (ipykernel)",
   "language": "python",
   "name": "python3"
  },
  "language_info": {
   "codemirror_mode": {
    "name": "ipython",
    "version": 3
   },
   "file_extension": ".py",
   "mimetype": "text/x-python",
   "name": "python",
   "nbconvert_exporter": "python",
   "pygments_lexer": "ipython3",
   "version": "3.10.9"
  }
 },
 "nbformat": 4,
 "nbformat_minor": 5
}
