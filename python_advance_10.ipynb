{
 "cells": [
  {
   "attachments": {},
   "cell_type": "markdown",
   "metadata": {},
   "source": [
    "Q1. What is the difference between __getattr__ and __getattribute__?"
   ]
  },
  {
   "attachments": {},
   "cell_type": "markdown",
   "metadata": {},
   "source": [
    "Normally,if we want to access the attribute of a class,we access it with instance of the class like instance.attribute_name. These attributes are already present in the class.Where as,to access the attributes of class which are not defined in the class, we use getattr() method.\n",
    "\n",
    "But if the attributes does exists, getattr won't be invoked"
   ]
  },
  {
   "cell_type": "code",
   "execution_count": 1,
   "metadata": {},
   "outputs": [
    {
     "name": "stdout",
     "output_type": "stream",
     "text": [
      "Banglore\n",
      "abcd\n"
     ]
    }
   ],
   "source": [
    "class Sample:\n",
    "    def __init__(self,address):\n",
    "        self.address=address\n",
    "    def __getattr__(self,name):\n",
    "        return name.lower()\n",
    "s=Sample(\"Banglore\")\n",
    "print(s.address)#existing attribute\n",
    "print(s.ABCD)#ABCD is non defined in class"
   ]
  },
  {
   "cell_type": "code",
   "execution_count": 3,
   "metadata": {},
   "outputs": [
    {
     "name": "stdout",
     "output_type": "stream",
     "text": [
      "New Value\n"
     ]
    }
   ],
   "source": [
    "#getattribute will look for every attribute,doesn't matter if the attributes exists or not.\n",
    "class Dummy():\n",
    "    \n",
    "    def __getattribute__(self,attr):\n",
    "        return \"New Value\"\n",
    "d=Dummy()\n",
    "d.value=\"Old value\"\n",
    "print(d.value)#\"YOU SEE ME?\""
   ]
  },
  {
   "attachments": {},
   "cell_type": "markdown",
   "metadata": {},
   "source": [
    "Q2. What is the difference between properties and descriptors?"
   ]
  },
  {
   "attachments": {},
   "cell_type": "markdown",
   "metadata": {},
   "source": [
    "in Properties,We can bind getter,setter functions with an attribute name,using the build-in property function.In descriptor,We can bind getter,setter(and deleter) functions into a seperate class.We then assign an object of this class to the attribute name."
   ]
  },
  {
   "attachments": {},
   "cell_type": "markdown",
   "metadata": {},
   "source": [
    "Q3. What are the key differences in functionality between __getattr__ and __getattribute__, as well as properties and descriptors?"
   ]
  },
  {
   "attachments": {},
   "cell_type": "markdown",
   "metadata": {},
   "source": [
    "To access the attribute of class which are not defined in the class,We use getattr() method.But if the attribute does exist,getattr won't be invoked.getattribute will look for every attribute,doesn't matter if the attribute exists or not.\n",
    "\n",
    "In Properties,we can bind getter,setter function with an attribute name,using the bulid-in property function.In descriptor,we bind getter,setter (and deleter) function into a separate class.We then assign an object of this class to the attribute name."
   ]
  },
  {
   "attachments": {},
   "cell_type": "markdown",
   "metadata": {},
   "source": []
  }
 ],
 "metadata": {
  "kernelspec": {
   "display_name": "Python 3",
   "language": "python",
   "name": "python3"
  },
  "language_info": {
   "codemirror_mode": {
    "name": "ipython",
    "version": 3
   },
   "file_extension": ".py",
   "mimetype": "text/x-python",
   "name": "python",
   "nbconvert_exporter": "python",
   "pygments_lexer": "ipython3",
   "version": "3.11.3"
  },
  "orig_nbformat": 4
 },
 "nbformat": 4,
 "nbformat_minor": 2
}
